{
 "cells": [
  {
   "cell_type": "markdown",
   "metadata": {},
   "source": [
    "<h2> Base dos Dados para testar quão bem os jogos com x gols se encaixam em um Poisson <h2>\n",
    "    "
   ]
  },
  {
   "cell_type": "markdown",
   "metadata": {},
   "source": [
    "<h7> Cenário: temos um modelo paramétrico e dados observados da Base dos Dados. \n",
    "De modo informal, queremos saber se é razoável afirmar que os dados foram extraídos da distribuição descrita pelo modelo. <h7>\n",
    "Por exemplo, os dados são os gols que o time mandante faz em uma cada partida do campeonato brasileiro em certo ano e o modelo é a distribuição de Poisson. "
   ]
  },
  {
   "cell_type": "code",
   "execution_count": 1,
   "metadata": {},
   "outputs": [],
   "source": [
    "#abrimos o pacote da basedosdados e criamos um dataframe com esses dados\n",
    "# !pip install basedosdados - caso voce nao tenha baixado, tirar do comentário\n",
    "import basedosdados as bd\n",
    "import numpy as np\n",
    "import pandas as pd"
   ]
  },
  {
   "cell_type": "code",
   "execution_count": 2,
   "metadata": {},
   "outputs": [
    {
     "name": "stderr",
     "output_type": "stream",
     "text": [
      "Downloading: 100%|██████████| 7030/7030 [00:03<00:00, 2126.61rows/s]\n"
     ]
    }
   ],
   "source": [
    "#vamos abrir a base com o bd.read_table() e ja filtra-la\n",
    "df = bd.read_table(\n",
    "      dataset_id='mundo_transfermarkt_competicoes', \n",
    "      table_id='brasileirao_serie_a',\n",
    "      billing_project_id='double-voice-305816'\n",
    ")[[\"ano_campeonato\", \"gols_man\", \"gols_vis\", \"time_man\", \"time_vis\"]]"
   ]
  },
  {
   "cell_type": "markdown",
   "metadata": {},
   "source": [
    "<h7> Diferentes anos, mesma história <h7>"
   ]
  },
  {
   "cell_type": "code",
   "execution_count": 3,
   "metadata": {},
   "outputs": [
    {
     "data": {
      "text/html": [
       "<div>\n",
       "<style scoped>\n",
       "    .dataframe tbody tr th:only-of-type {\n",
       "        vertical-align: middle;\n",
       "    }\n",
       "\n",
       "    .dataframe tbody tr th {\n",
       "        vertical-align: top;\n",
       "    }\n",
       "\n",
       "    .dataframe thead th {\n",
       "        text-align: right;\n",
       "    }\n",
       "</style>\n",
       "<table border=\"1\" class=\"dataframe\">\n",
       "  <thead>\n",
       "    <tr style=\"text-align: right;\">\n",
       "      <th></th>\n",
       "      <th>ano_campeonato</th>\n",
       "      <th>gols_man</th>\n",
       "      <th>gols_vis</th>\n",
       "      <th>time_man</th>\n",
       "      <th>time_vis</th>\n",
       "    </tr>\n",
       "  </thead>\n",
       "  <tbody>\n",
       "    <tr>\n",
       "      <th>6650</th>\n",
       "      <td>2020</td>\n",
       "      <td>0.0</td>\n",
       "      <td>1.0</td>\n",
       "      <td>Coritiba FC</td>\n",
       "      <td>Internacional</td>\n",
       "    </tr>\n",
       "    <tr>\n",
       "      <th>6651</th>\n",
       "      <td>2020</td>\n",
       "      <td>3.0</td>\n",
       "      <td>2.0</td>\n",
       "      <td>Sport Recife</td>\n",
       "      <td>Ceará SC</td>\n",
       "    </tr>\n",
       "    <tr>\n",
       "      <th>6652</th>\n",
       "      <td>2020</td>\n",
       "      <td>0.0</td>\n",
       "      <td>1.0</td>\n",
       "      <td>Flamengo</td>\n",
       "      <td>Atlético-MG</td>\n",
       "    </tr>\n",
       "    <tr>\n",
       "      <th>6653</th>\n",
       "      <td>2020</td>\n",
       "      <td>1.0</td>\n",
       "      <td>1.0</td>\n",
       "      <td>Santos FC</td>\n",
       "      <td>RB Bragantino</td>\n",
       "    </tr>\n",
       "    <tr>\n",
       "      <th>6654</th>\n",
       "      <td>2020</td>\n",
       "      <td>1.0</td>\n",
       "      <td>0.0</td>\n",
       "      <td>Grêmio</td>\n",
       "      <td>Fluminense</td>\n",
       "    </tr>\n",
       "    <tr>\n",
       "      <th>...</th>\n",
       "      <td>...</td>\n",
       "      <td>...</td>\n",
       "      <td>...</td>\n",
       "      <td>...</td>\n",
       "      <td>...</td>\n",
       "    </tr>\n",
       "    <tr>\n",
       "      <th>7025</th>\n",
       "      <td>2020</td>\n",
       "      <td>0.0</td>\n",
       "      <td>0.0</td>\n",
       "      <td>Internacional</td>\n",
       "      <td>Corinthians</td>\n",
       "    </tr>\n",
       "    <tr>\n",
       "      <th>7026</th>\n",
       "      <td>2020</td>\n",
       "      <td>2.0</td>\n",
       "      <td>0.0</td>\n",
       "      <td>EC Bahia</td>\n",
       "      <td>Santos FC</td>\n",
       "    </tr>\n",
       "    <tr>\n",
       "      <th>7027</th>\n",
       "      <td>2020</td>\n",
       "      <td>2.0</td>\n",
       "      <td>0.0</td>\n",
       "      <td>Athletico-PR</td>\n",
       "      <td>Sport Recife</td>\n",
       "    </tr>\n",
       "    <tr>\n",
       "      <th>7028</th>\n",
       "      <td>2020</td>\n",
       "      <td>2.0</td>\n",
       "      <td>1.0</td>\n",
       "      <td>Ceará SC</td>\n",
       "      <td>Botafogo</td>\n",
       "    </tr>\n",
       "    <tr>\n",
       "      <th>7029</th>\n",
       "      <td>2020</td>\n",
       "      <td>3.0</td>\n",
       "      <td>1.0</td>\n",
       "      <td>Atlético-GO</td>\n",
       "      <td>Coritiba FC</td>\n",
       "    </tr>\n",
       "  </tbody>\n",
       "</table>\n",
       "<p>380 rows × 5 columns</p>\n",
       "</div>"
      ],
      "text/plain": [
       "      ano_campeonato  gols_man  gols_vis       time_man       time_vis\n",
       "6650            2020       0.0       1.0    Coritiba FC  Internacional\n",
       "6651            2020       3.0       2.0   Sport Recife       Ceará SC\n",
       "6652            2020       0.0       1.0       Flamengo    Atlético-MG\n",
       "6653            2020       1.0       1.0      Santos FC  RB Bragantino\n",
       "6654            2020       1.0       0.0         Grêmio     Fluminense\n",
       "...              ...       ...       ...            ...            ...\n",
       "7025            2020       0.0       0.0  Internacional    Corinthians\n",
       "7026            2020       2.0       0.0       EC Bahia      Santos FC\n",
       "7027            2020       2.0       0.0   Athletico-PR   Sport Recife\n",
       "7028            2020       2.0       1.0       Ceará SC       Botafogo\n",
       "7029            2020       3.0       1.0    Atlético-GO    Coritiba FC\n",
       "\n",
       "[380 rows x 5 columns]"
      ]
     },
     "execution_count": 3,
     "metadata": {},
     "output_type": "execute_result"
    }
   ],
   "source": [
    "def gera_base_ano(ano):\n",
    "    return  df[df[\"ano_campeonato\"] == ano]\n",
    "\n",
    "anos = [2004, 2005, 2013,2015,2019,2020]\n",
    "bases = list(map(gera_base_ano, anos))   \n",
    "#0- 2013 1-2015 2-2019\n",
    "bases[5]"
   ]
  },
  {
   "cell_type": "markdown",
   "metadata": {},
   "source": [
    "<h7> Ao invés disso tudo, a read_sql() <h7>"
   ]
  },
  {
   "cell_type": "code",
   "execution_count": 4,
   "metadata": {},
   "outputs": [
    {
     "name": "stderr",
     "output_type": "stream",
     "text": [
      "Downloading: 100%|██████████| 380/380 [00:01<00:00, 335.59rows/s]\n"
     ]
    }
   ],
   "source": [
    "base_alt_2019 = bd.read_sql('''SELECT ano_campeonato, gols_man, gols_vis, time_man, time_vis \n",
    "FROM `basedosdados.mundo_transfermarkt_competicoes.brasileirao_serie_a` \n",
    "WHERE ano_campeonato != 2005 ''' , 'double-voice-305816')"
   ]
  },
  {
   "cell_type": "code",
   "execution_count": null,
   "metadata": {},
   "outputs": [],
   "source": [
    "# teve problemas?\n",
    "?bd.read_sql\n",
    "?bd.read_table"
   ]
  },
  {
   "cell_type": "markdown",
   "metadata": {},
   "source": [
    "<h7> Indícios de proximidade <h7>"
   ]
  },
  {
   "cell_type": "code",
   "execution_count": 6,
   "metadata": {},
   "outputs": [],
   "source": [
    "#descricao dos dados do mandante\n",
    "def desc(i):\n",
    "    return pd.DataFrame(bases[i][\"gols_man\"].describe()).rename(columns = \n",
    "                                                                {\"gols_man\" : i}).rename(columns=\n",
    "                                                                                        {0 : 2004,\n",
    "                                                                                        1:2005,\n",
    "                                                                                        2:2013,\n",
    "                                                                                        3:2015,\n",
    "                                                                                        4:2019,\n",
    "                                                                                        5:2020})\n",
    "#descricao\n",
    "def desc2(i):\n",
    "    return pd.DataFrame(bases[i][\"gols_vis\"].describe()).rename(columns = \n",
    "                                                                {\"gols_vis\" : i}).rename(columns=\n",
    "                                                                                        {0 : 2004,\n",
    "                                                                                        1:2005,\n",
    "                                                                                        2:2013,\n",
    "                                                                                        3:2015,\n",
    "                                                                                        4:2019,\n",
    "                                                                                        5:2020})"
   ]
  },
  {
   "cell_type": "markdown",
   "metadata": {},
   "source": [
    "<h7> Como estão distribuidos os gols dos mandantes <h7>"
   ]
  },
  {
   "cell_type": "code",
   "execution_count": 7,
   "metadata": {
    "scrolled": false
   },
   "outputs": [
    {
     "data": {
      "text/html": [
       "<div>\n",
       "<style scoped>\n",
       "    .dataframe tbody tr th:only-of-type {\n",
       "        vertical-align: middle;\n",
       "    }\n",
       "\n",
       "    .dataframe tbody tr th {\n",
       "        vertical-align: top;\n",
       "    }\n",
       "\n",
       "    .dataframe thead th {\n",
       "        text-align: right;\n",
       "    }\n",
       "</style>\n",
       "<table border=\"1\" class=\"dataframe\">\n",
       "  <thead>\n",
       "    <tr style=\"text-align: right;\">\n",
       "      <th></th>\n",
       "      <th>2004</th>\n",
       "      <th>2005</th>\n",
       "      <th>2013</th>\n",
       "      <th>2015</th>\n",
       "      <th>2019</th>\n",
       "      <th>2020</th>\n",
       "    </tr>\n",
       "  </thead>\n",
       "  <tbody>\n",
       "    <tr>\n",
       "      <th>count</th>\n",
       "      <td>456.000000</td>\n",
       "      <td>418.000000</td>\n",
       "      <td>380.000000</td>\n",
       "      <td>380.000000</td>\n",
       "      <td>380.000000</td>\n",
       "      <td>380.000000</td>\n",
       "    </tr>\n",
       "    <tr>\n",
       "      <th>mean</th>\n",
       "      <td>1.688596</td>\n",
       "      <td>1.796651</td>\n",
       "      <td>1.468421</td>\n",
       "      <td>1.460526</td>\n",
       "      <td>1.381579</td>\n",
       "      <td>1.410526</td>\n",
       "    </tr>\n",
       "    <tr>\n",
       "      <th>std</th>\n",
       "      <td>1.347183</td>\n",
       "      <td>1.310093</td>\n",
       "      <td>1.198747</td>\n",
       "      <td>1.191890</td>\n",
       "      <td>1.223852</td>\n",
       "      <td>1.101639</td>\n",
       "    </tr>\n",
       "    <tr>\n",
       "      <th>min</th>\n",
       "      <td>0.000000</td>\n",
       "      <td>0.000000</td>\n",
       "      <td>0.000000</td>\n",
       "      <td>0.000000</td>\n",
       "      <td>0.000000</td>\n",
       "      <td>0.000000</td>\n",
       "    </tr>\n",
       "    <tr>\n",
       "      <th>25%</th>\n",
       "      <td>1.000000</td>\n",
       "      <td>1.000000</td>\n",
       "      <td>1.000000</td>\n",
       "      <td>1.000000</td>\n",
       "      <td>1.000000</td>\n",
       "      <td>1.000000</td>\n",
       "    </tr>\n",
       "    <tr>\n",
       "      <th>50%</th>\n",
       "      <td>1.000000</td>\n",
       "      <td>2.000000</td>\n",
       "      <td>1.000000</td>\n",
       "      <td>1.000000</td>\n",
       "      <td>1.000000</td>\n",
       "      <td>1.000000</td>\n",
       "    </tr>\n",
       "    <tr>\n",
       "      <th>75%</th>\n",
       "      <td>2.000000</td>\n",
       "      <td>3.000000</td>\n",
       "      <td>2.000000</td>\n",
       "      <td>2.000000</td>\n",
       "      <td>2.000000</td>\n",
       "      <td>2.000000</td>\n",
       "    </tr>\n",
       "    <tr>\n",
       "      <th>max</th>\n",
       "      <td>7.000000</td>\n",
       "      <td>7.000000</td>\n",
       "      <td>6.000000</td>\n",
       "      <td>6.000000</td>\n",
       "      <td>6.000000</td>\n",
       "      <td>5.000000</td>\n",
       "    </tr>\n",
       "  </tbody>\n",
       "</table>\n",
       "</div>"
      ],
      "text/plain": [
       "             2004        2005        2013        2015        2019        2020\n",
       "count  456.000000  418.000000  380.000000  380.000000  380.000000  380.000000\n",
       "mean     1.688596    1.796651    1.468421    1.460526    1.381579    1.410526\n",
       "std      1.347183    1.310093    1.198747    1.191890    1.223852    1.101639\n",
       "min      0.000000    0.000000    0.000000    0.000000    0.000000    0.000000\n",
       "25%      1.000000    1.000000    1.000000    1.000000    1.000000    1.000000\n",
       "50%      1.000000    2.000000    1.000000    1.000000    1.000000    1.000000\n",
       "75%      2.000000    3.000000    2.000000    2.000000    2.000000    2.000000\n",
       "max      7.000000    7.000000    6.000000    6.000000    6.000000    5.000000"
      ]
     },
     "execution_count": 7,
     "metadata": {},
     "output_type": "execute_result"
    }
   ],
   "source": [
    "desc(0).join(desc(1)).join(desc(2)).join(desc(3)).join(desc(4)).join(desc(5))"
   ]
  },
  {
   "cell_type": "code",
   "execution_count": 11,
   "metadata": {},
   "outputs": [
    {
     "data": {
      "text/plain": [
       "1.716343668649"
      ]
     },
     "execution_count": 11,
     "metadata": {},
     "output_type": "execute_result"
    }
   ],
   "source": [
    "1.310093**2"
   ]
  },
  {
   "cell_type": "markdown",
   "metadata": {},
   "source": [
    "<h7> Como estão distribuidos os gols dos visitantes <h7>"
   ]
  },
  {
   "cell_type": "code",
   "execution_count": 12,
   "metadata": {
    "scrolled": false
   },
   "outputs": [
    {
     "data": {
      "text/html": [
       "<div>\n",
       "<style scoped>\n",
       "    .dataframe tbody tr th:only-of-type {\n",
       "        vertical-align: middle;\n",
       "    }\n",
       "\n",
       "    .dataframe tbody tr th {\n",
       "        vertical-align: top;\n",
       "    }\n",
       "\n",
       "    .dataframe thead th {\n",
       "        text-align: right;\n",
       "    }\n",
       "</style>\n",
       "<table border=\"1\" class=\"dataframe\">\n",
       "  <thead>\n",
       "    <tr style=\"text-align: right;\">\n",
       "      <th></th>\n",
       "      <th>2004</th>\n",
       "      <th>2005</th>\n",
       "      <th>2013</th>\n",
       "      <th>2015</th>\n",
       "      <th>2019</th>\n",
       "      <th>2020</th>\n",
       "    </tr>\n",
       "  </thead>\n",
       "  <tbody>\n",
       "    <tr>\n",
       "      <th>count</th>\n",
       "      <td>456.000000</td>\n",
       "      <td>418.000000</td>\n",
       "      <td>380.000000</td>\n",
       "      <td>380.000000</td>\n",
       "      <td>380.000000</td>\n",
       "      <td>380.000000</td>\n",
       "    </tr>\n",
       "    <tr>\n",
       "      <th>mean</th>\n",
       "      <td>1.067982</td>\n",
       "      <td>1.351675</td>\n",
       "      <td>0.994737</td>\n",
       "      <td>0.900000</td>\n",
       "      <td>0.923684</td>\n",
       "      <td>1.410526</td>\n",
       "    </tr>\n",
       "    <tr>\n",
       "      <th>std</th>\n",
       "      <td>1.078147</td>\n",
       "      <td>1.158126</td>\n",
       "      <td>1.011790</td>\n",
       "      <td>0.974882</td>\n",
       "      <td>0.934232</td>\n",
       "      <td>1.101639</td>\n",
       "    </tr>\n",
       "    <tr>\n",
       "      <th>min</th>\n",
       "      <td>0.000000</td>\n",
       "      <td>0.000000</td>\n",
       "      <td>0.000000</td>\n",
       "      <td>0.000000</td>\n",
       "      <td>0.000000</td>\n",
       "      <td>0.000000</td>\n",
       "    </tr>\n",
       "    <tr>\n",
       "      <th>25%</th>\n",
       "      <td>0.000000</td>\n",
       "      <td>0.000000</td>\n",
       "      <td>0.000000</td>\n",
       "      <td>0.000000</td>\n",
       "      <td>0.000000</td>\n",
       "      <td>1.000000</td>\n",
       "    </tr>\n",
       "    <tr>\n",
       "      <th>50%</th>\n",
       "      <td>1.000000</td>\n",
       "      <td>1.000000</td>\n",
       "      <td>1.000000</td>\n",
       "      <td>1.000000</td>\n",
       "      <td>1.000000</td>\n",
       "      <td>1.000000</td>\n",
       "    </tr>\n",
       "    <tr>\n",
       "      <th>75%</th>\n",
       "      <td>2.000000</td>\n",
       "      <td>2.000000</td>\n",
       "      <td>2.000000</td>\n",
       "      <td>1.000000</td>\n",
       "      <td>1.000000</td>\n",
       "      <td>2.000000</td>\n",
       "    </tr>\n",
       "    <tr>\n",
       "      <th>max</th>\n",
       "      <td>5.000000</td>\n",
       "      <td>6.000000</td>\n",
       "      <td>5.000000</td>\n",
       "      <td>4.000000</td>\n",
       "      <td>5.000000</td>\n",
       "      <td>5.000000</td>\n",
       "    </tr>\n",
       "  </tbody>\n",
       "</table>\n",
       "</div>"
      ],
      "text/plain": [
       "             2004        2005        2013        2015        2019        2020\n",
       "count  456.000000  418.000000  380.000000  380.000000  380.000000  380.000000\n",
       "mean     1.067982    1.351675    0.994737    0.900000    0.923684    1.410526\n",
       "std      1.078147    1.158126    1.011790    0.974882    0.934232    1.101639\n",
       "min      0.000000    0.000000    0.000000    0.000000    0.000000    0.000000\n",
       "25%      0.000000    0.000000    0.000000    0.000000    0.000000    1.000000\n",
       "50%      1.000000    1.000000    1.000000    1.000000    1.000000    1.000000\n",
       "75%      2.000000    2.000000    2.000000    1.000000    1.000000    2.000000\n",
       "max      5.000000    6.000000    5.000000    4.000000    5.000000    5.000000"
      ]
     },
     "execution_count": 12,
     "metadata": {},
     "output_type": "execute_result"
    }
   ],
   "source": [
    "desc2(0).join(desc2(1)).join(desc2(2)).join(desc2(3)).join(desc2(4)).join(desc(5))"
   ]
  },
  {
   "cell_type": "markdown",
   "metadata": {},
   "source": [
    "<h9>a gente assiste ao mesmo jogo faz 16 anos??? <h9>"
   ]
  },
  {
   "cell_type": "markdown",
   "metadata": {},
   "source": [
    "<h2> --------------------------------------------------------------------------------- <h2>"
   ]
  },
  {
   "cell_type": "markdown",
   "metadata": {},
   "source": [
    "<h7> Como usar distribuições para aproximar isso, e porque usar Poisson e não Normal ou Binomial? <h7>"
   ]
  },
  {
   "cell_type": "code",
   "execution_count": 13,
   "metadata": {},
   "outputs": [],
   "source": [
    "#antes do bd: placar_casa = np.array([0,1,2,3,4,5,6])\n",
    "#antes do bd: partidas_casa = np.array([44, 57,45,33,5,4,2])\n",
    "\n",
    "placar_casa = np.sort(np.array((bases[4][\"gols_man\"].unique())))          \n",
    "\n",
    "#placar em casa quanto gols (bins) \n",
    "#partidas em casa = numero de jogos onde aconteceram tantos gols acima \n",
    "#com o bd usamos dados reais facilmente:\n",
    "bases[4][\"partida\"] = 1\n",
    "partidas_casa = bases[4].groupby(\"gols_man\")[\"partida\"].sum()\n",
    "\n",
    "\n",
    "\n",
    "##antes do bd: freq_casa = partidas_casa/np.sum(partidas_casa)\n",
    "#partidas_casa = spfc_casa.groupby(\"ano_campeonato\").count()\n",
    "freq_casa = partidas_casa/np.sum(partidas_casa)\n",
    "media = np.sum(freq_casa*placar_casa)\n"
   ]
  },
  {
   "cell_type": "code",
   "execution_count": 14,
   "metadata": {},
   "outputs": [
    {
     "data": {
      "text/plain": [
       "gols_man\n",
       "0.0     93\n",
       "1.0    144\n",
       "2.0     83\n",
       "3.0     36\n",
       "4.0     18\n",
       "5.0      1\n",
       "6.0      5\n",
       "Name: partida, dtype: int64"
      ]
     },
     "execution_count": 14,
     "metadata": {},
     "output_type": "execute_result"
    }
   ],
   "source": [
    "partidas_casa"
   ]
  },
  {
   "cell_type": "markdown",
   "metadata": {},
   "source": [
    "<h7> Usando a Poisson <h7>"
   ]
  },
  {
   "cell_type": "code",
   "execution_count": 15,
   "metadata": {},
   "outputs": [
    {
     "data": {
      "image/png": "[encoded data removed]",
      "text/plain": [
       "<Figure size 432x288 with 1 Axes>"
      ]
     },
     "metadata": {
      "needs_background": "light"
     },
     "output_type": "display_data"
    }
   ],
   "source": [
    "from matplotlib import pyplot as plt\n",
    "import scipy.stats as stat\n",
    "fig = plt.figure()\n",
    "ax1 = fig.add_subplot()\n",
    "ax1.plot(placar_casa, freq_casa, color = 'blue')\n",
    "freq_estim_poisson = np.concatenate((stat.poisson.pmf([0,1,2,3,4,5], media), [1-stat.poisson.cdf(6,media)]))\n",
    "ax1.plot(placar_casa, freq_estim_poisson , color = 'red')\n",
    "ax1.set_xlabel('gols casa')\n",
    "plt.show()"
   ]
  },
  {
   "cell_type": "markdown",
   "metadata": {},
   "source": [
    "<h7> Parece um bom modelo.  Vamos comparar com outro, que não parece tão bom. Gráficos parecidos não necessariamente indicam qualidade parecida! Vamos ver com a binomial <h7>"
   ]
  },
  {
   "cell_type": "code",
   "execution_count": 16,
   "metadata": {
    "scrolled": true
   },
   "outputs": [
    {
     "data": {
      "image/png": "[encoded data removed]",
      "text/plain": [
       "<Figure size 432x288 with 1 Axes>"
      ]
     },
     "metadata": {
      "needs_background": "light"
     },
     "output_type": "display_data"
    }
   ],
   "source": [
    "from matplotlib import pyplot as plt\n",
    "import scipy.stats as stat\n",
    "fig = plt.figure()\n",
    "ax1 = fig.add_subplot()\n",
    "ax1.plot(placar_casa, freq_casa, color = 'blue')\n",
    "ax1.plot(placar_casa, stat.binom.pmf(placar_casa, 6, media/6), color = 'red')\n",
    "ax1.set_xlabel('gols casa')\n",
    "plt.show()"
   ]
  },
  {
   "cell_type": "markdown",
   "metadata": {},
   "source": [
    "<h7> Suposição de times com distribuições parecidas? <h7>"
   ]
  },
  {
   "cell_type": "code",
   "execution_count": 18,
   "metadata": {},
   "outputs": [],
   "source": [
    "base_alt_2019_sp = base_alt_2019[base_alt_2019[\"time_man\"] == \"São Paulo\"]\n",
    "base_alt_2019_sp[\"partida\"] = 1\n",
    "\n",
    "base_alt_2019_fl = base_alt_2019[base_alt_2019[\"time_man\"] == \"Fluminense\"]\n",
    "base_alt_2019_fl[\"partida\"] = 1"
   ]
  },
  {
   "cell_type": "code",
   "execution_count": 19,
   "metadata": {},
   "outputs": [],
   "source": [
    "#spfc\n",
    "placar_casa_spfc = np.sort(np.array((base_alt_2019_sp[\"gols_man\"].unique())))   \n",
    "partidas_casa_spfc = base_alt_2019_sp.groupby(\"gols_man\")[\"partida\"].sum()\n",
    "freq_casa_spfc = partidas_casa_spfc/np.sum(partidas_casa)\n",
    "media_spfc = np.sum(freq_casa*placar_casa)\n",
    "\n",
    "#fluminense\n",
    "placar_casa_flu = np.sort(np.array((base_alt_2019_fl[\"gols_man\"].unique())))   \n",
    "partidas_casa_flu = base_alt_2019_fl.groupby(\"gols_man\")[\"partida\"].sum()\n",
    "freq_casa_flu = partidas_casa_flu/np.sum(partidas_casa)\n",
    "media_flu = np.sum(freq_casa*placar_casa)"
   ]
  },
  {
   "cell_type": "markdown",
   "metadata": {},
   "source": [
    "<h7> Poisson doS Tricolor <h7> "
   ]
  },
  {
   "cell_type": "code",
   "execution_count": 20,
   "metadata": {},
   "outputs": [
    {
     "data": {
      "image/png": "[encoded data removed]",
      "text/plain": [
       "<Figure size 432x288 with 1 Axes>"
      ]
     },
     "metadata": {
      "needs_background": "light"
     },
     "output_type": "display_data"
    }
   ],
   "source": [
    "from matplotlib import pyplot as plt\n",
    "import scipy.stats as stat\n",
    "fig = plt.figure()\n",
    "ax1 = fig.add_subplot()\n",
    "ax1.plot(placar_casa_spfc, freq_casa_spfc, color = 'blue')\n",
    "#freq_estim_poisson = np.concatenate((stat.poisson.pmf([0,1,2,3,4,5], media), [1-stat.poisson.cdf(6,media)]))\n",
    "ax1.plot(placar_casa_flu,freq_casa_flu , color = 'red')\n",
    "ax1.set_xlabel('gols casa')\n",
    "plt.show()"
   ]
  },
  {
   "cell_type": "markdown",
   "metadata": {},
   "source": [
    "<h2>------------------------------------------------------------------------------------<h2>"
   ]
  },
  {
   "cell_type": "markdown",
   "metadata": {},
   "source": [
    "A pergunta sobre aderência do modelo é: os dados são compatíveis com o modelo proposto?\n",
    "Dito de outra forma, os dados são típicos de uma extração da distribuição proposta?\n",
    "* Coeficiente de determinação $R^2$ (vou pular essa ideia, mas podemos falar do pseudo-$R^2$ para a regressão logística)\n",
    "* O teste $\\chi^2$\n",
    "* G-score\n",
    "* Bootstrap ingênuo"
   ]
  },
  {
   "cell_type": "markdown",
   "metadata": {},
   "source": [
    "<h3> Teste $\\chi^2$ <h3>"
   ]
  },
  {
   "cell_type": "markdown",
   "metadata": {},
   "source": [
    "Por um lado temos os dados dados por gols_casa (e freq_casa).  Por outro temos o modelo, dado por freq_estim = stat.binom.pmf(placar_casa, 6, media/6)"
   ]
  },
  {
   "cell_type": "code",
   "execution_count": 21,
   "metadata": {},
   "outputs": [
    {
     "name": "stdout",
     "output_type": "stream",
     "text": [
      "[0.25118164 0.34702726 0.23972278 0.11039865 0.03813111 0.01053623\n",
      " 0.00300233]\n",
      "gols_man\n",
      "0.0    0.244737\n",
      "1.0    0.378947\n",
      "2.0    0.218421\n",
      "3.0    0.094737\n",
      "4.0    0.047368\n",
      "5.0    0.002632\n",
      "6.0    0.013158\n",
      "Name: partida, dtype: float64\n",
      "[ 93. 144.  83.  36.  18.   1.   5.]\n",
      "[47.72451107 65.93517977 45.54732813 20.97574322  7.24491131  2.00188339\n",
      "  0.57044313]\n"
     ]
    }
   ],
   "source": [
    "obs = partidas_casa\n",
    "freq_obs = freq_casa\n",
    "freq_estim_poisson = np.concatenate((stat.poisson.pmf([0,1,2,3,4,5],media),[1-stat.poisson.cdf(5, media)]))\n",
    "expected = freq_estim_poisson*190\n",
    "\n",
    "print(freq_estim_poisson)\n",
    "print(freq_obs)\n",
    "print(np.array(obs).astype(np.float))\n",
    "print(expected)"
   ]
  },
  {
   "cell_type": "markdown",
   "metadata": {},
   "source": [
    "Queremos testar a plausibilidade de um fenômeno como o descrito pelo modelo gerar os dados que são observados. Uma medida seria a probabilidade de ocorrer o observado se a distribuição é exatamente a dada pelo modelo, isto é, $Pr(X_0 = 0, ... , X_6= 2 | \\lambda = 0.232)$.\n",
    "Essa probabilidade é muito pequena mesmo que o modelo seja perfeito.\n",
    "\n",
    "Fazendo por partes, vamos olhar cada componente do histograma. Por exempolo, olhando para o primeiro componente do histograma (haver 0 gols em uma partida) temos que 44 sucessos em 190 tentativas.  A variável aleatória correspondente a essa entrada do histograma é $X_0 \\sim bin(190, 0.232^2)$ (que tem média $\\mu = 190\\cdot 0.232$ e variância $\\sigma^2 = 190\\cdot 0.232 \\cdot (1-0.232)$.  Devemos esperar que X se desvie da média como observado ou mais?  Ou seja, quanto vale $Pr(|X-\\mu|>= |44-\\mu|)$?\n",
    "Reescrevendo, a medida de plausibilidade é $Pr(\\frac{X_0-\\mu}{\\sigma} >= \\frac{44-\\mu}{\\sigma})$.  Aproximando a binomial por uma normal, com média $\\mu = n\\cdot p$ e variância $\\sigma = n \\cdot p \\cdot (1-p) \\approx n\\cdot p$, temos que essa probabilidade é aproximada por $Pr(Z >= \\frac{44-\\mu}{\\sigma})$, onde $Z \\sim normal(0,1)$.  Ou então, equivalentemente, $Pr(\\chi^2 >= \\frac{(44-\\mu)^2}{\\sigma^2} = \\frac{(Obs_0 - Esp_0)^2}{Esp_0})$\n",
    "\n",
    "Fazer isso para todos as componentes do histograma exige um pouco mais de trabalho. No final das contas, como mostrou Pearson,  a probabilide é assintoticamente $Pr(\\chi^2 >= \\sum\\frac{(O_i-E_i)^2}{E_i})$ onde $\\chi^2$ tem $n-1$ graus de liberdade.\n",
    "\n",
    "\n"
   ]
  },
  {
   "cell_type": "code",
   "execution_count": null,
   "metadata": {},
   "outputs": [],
   "source": [
    "#Poisson\n",
    "soma = sum((obs-expected)*(obs-expected)/expected)\n",
    "print(soma, 1-stat.chi2.cdf(soma, df = 6))\n",
    "stat.chisquare(f_obs=obs, f_exp=expected) # Teste chi-square já pronto e embalado no scipy.stats"
   ]
  },
  {
   "cell_type": "code",
   "execution_count": null,
   "metadata": {},
   "outputs": [],
   "source": [
    "#Binomial\n",
    "freq_estim_bin = stat.binom.pmf([0,1,2,3,4,5, 6], 6 , media/6)\n",
    "expected_bin = freq_estim_bin*190\n",
    "stat.chisquare(f_obs=obs, f_exp=expected_bin) # Teste chi-square já pronto e embalado no scipy.stats_bin"
   ]
  },
  {
   "cell_type": "markdown",
   "metadata": {},
   "source": [
    "<h4>Problemas do teste $\\chi^2$<h4>"
   ]
  },
  {
   "cell_type": "markdown",
   "metadata": {},
   "source": [
    "O teste chi-quadrado faz a aproximação da binomial pela normal. Portanto, situações onde essa aproximação é fraca também afetam o teste.  Essa situação ocorre, por exemplo, quando temos entradas do histograma com contagens iguais ou próximas a zero.\n",
    "\n",
    "Outro problema é que os parâmetros são estimados por maximização da verossimilhança e não por por minimização do valor do teste chi-quadrado.  O parâmetro usado pode não ser o que minimiza o teste."
   ]
  },
  {
   "cell_type": "markdown",
   "metadata": {},
   "source": [
    "<h3>G-test<h3>"
   ]
  },
  {
   "cell_type": "markdown",
   "metadata": {},
   "source": [
    "A fórmula do G-teste é $G = \\sum_{i}{O_i\\cdot log(\\frac{O_i}{E_i})}$. Mostra-se que G também tem, assintoticamente, distribuição $\\chi ^2$ com n-1 graus de liberdade como no teste chi-quadrado.\n",
    "Um ponto a favor do G-test é que encontrar o modelo paramétrico que dá o melhor G-score é o mesmo que maximizar a verossimilhança.\n",
    "Além disso, o G-test sofre menos com histogramas com entradas próximas ou iguais a zero."
   ]
  },
  {
   "cell_type": "code",
   "execution_count": null,
   "metadata": {},
   "outputs": [],
   "source": [
    "#poisson\n",
    "soma = 2*sum((obs)*np.log(obs/expected))\n",
    "print(soma, 1-stat.chi2.cdf(soma, df = 6))\n",
    "stat.power_divergence(f_obs=obs, f_exp=expected, lambda_ = 'log-likelihood') # Teste G pronto e embalado no scipy.stats"
   ]
  },
  {
   "cell_type": "code",
   "execution_count": null,
   "metadata": {},
   "outputs": [],
   "source": [
    "#binomial\n",
    "soma = 2*sum((obs)*np.log(obs/expected_bin))\n",
    "print(soma, 1-stat.chi2.cdf(soma, df = 6))\n",
    "stat.power_divergence(f_obs=obs, f_exp=expected_bin, lambda_ = 'log-likelihood') # Teste G pronto e embalado no scipy.stats"
   ]
  },
  {
   "cell_type": "markdown",
   "metadata": {},
   "source": [
    "<h3> Teste Multinomial <h3>"
   ]
  },
  {
   "cell_type": "markdown",
   "metadata": {},
   "source": [
    "A ideia do teste é a mais simples possível e, na ordem lógica, deveria ser o primeiro teste a ser apresentado.\n",
    "    Uma vez estabelecido o parâmetro do modelo, o modelo fica totalmente representado por um vetor de probabilidades $p$ (no caso do modelo Poisson, esse vetor é $p = [0.208 0.327 0.256 0.134 0.053 0.016 0.006]$ . Supondo que o modelo esteja correto, a probabilidade de ocorrer o resultado observado é $Pr(M = O)$, onde $M\\sim multinomial(p)$.\n",
    "    \n",
    "   Claro que essa probabilidade é muito baixa em geral. Mas queremos saber se o vetor de observações $O$ é típico de uma realização da variável aleatória $M$.  Para isso, calculamos, para todos os possíveis vetores $\\omega$, as probabilidades $Pr(M = \\omega)$.  O vetor de observações define a cauda $\\sum_{\\omega \\thinspace tal\\thinspace que\\thinspace Pr(X = \\omega)\\geq Pr(X=O)}{Pr(X=\\omega)}$\n",
    "   \n",
    "   Ou seja, queremos saber qual é a probabilidade de ocorrer o que foi observado ou coisa menos provável.  Se o modelo \"é razoável\", esperamos que essa probabilidade seja grande.  Se essa probabilidade for pequena, a chance do modelo ter produzido o  que foi de fato observado é igualmente pequena."
   ]
  },
  {
   "cell_type": "code",
   "execution_count": null,
   "metadata": {},
   "outputs": [],
   "source": [
    "# Poisson\n",
    "# para fazer o experimento, reduzi o vetor para 4 entradas, pois com 7 entradas a demanda computacional explode.\n",
    "\n",
    "freq_poisson_reduzido = np.concatenate((stat.poisson.pmf([0,1,2],media),[1-stat.poisson.cdf(2, media)]))\n",
    "obs_reduzido = [44.000, 57.000, 45.000, 44.000]\n",
    "prob_corte = stat.multinomial.pmf(obs_reduzido, n = 190, p=freq_poisson_reduzido)\n",
    "\n",
    "soma = 0\n",
    "cont_cenarios = 0\n",
    "soma_tudo = 0\n",
    "cont_tudo = 0\n",
    "for k0 in range(191):\n",
    "    for k1 in range(191 - k0):\n",
    "        for k2 in range(191 - k0 - k1):\n",
    "            k3 = 190 - (k0+k1+k2)\n",
    "            prob_cenario = stat.multinomial.pmf([k0, k1, k2, k3], n = 190, p=freq_poisson_reduzido)\n",
    "            soma_tudo += prob_cenario\n",
    "            cont_tudo += 1\n",
    "            if prob_cenario <= prob_corte:\n",
    "                soma += prob_cenario\n",
    "                cont_cenarios += 1\n",
    "                \n",
    "print('freq modelo: ', freq_binomial_reduzido)\n",
    "print('obs_reduzido: ', obs_reduzido)\n",
    "print('soma prob: ', soma)\n",
    "print('cenarios piores: ', cont_cenarios)\n",
    "print('soma tudo: ', soma_tudo)\n",
    "print('conta tudo: ', cont_tudo)\n",
    "print('prob corte: ', prob_corte)"
   ]
  },
  {
   "cell_type": "markdown",
   "metadata": {},
   "source": [
    "Verificando que o teste chi-quadrado dá resultado muito próximo"
   ]
  },
  {
   "cell_type": "code",
   "execution_count": null,
   "metadata": {},
   "outputs": [],
   "source": [
    "print('teste chi-quadrado: ', stat.chisquare(f_obs=obs_reduzido, f_exp=freq_poisson_reduzido*190)) # G-test dá praticamente igual"
   ]
  },
  {
   "cell_type": "code",
   "execution_count": null,
   "metadata": {},
   "outputs": [],
   "source": [
    "#binomial\n",
    "freq_binomial_reduzido = np.append(stat.binom.pmf([0,1,2], 6 , media/6), sum(stat.binom.pmf([3,4,5,6], 6, media/6)))\n",
    "obs_reduzido = [44.000, 57.000, 45.000, 44.000]\n",
    "prob_corte = stat.multinomial.pmf(obs_reduzido, n = 190, p=freq_binomial_reduzido)\n",
    "\n",
    "soma = 0\n",
    "cont_cenarios = 0\n",
    "soma_tudo = 0\n",
    "cont_tudo = 0\n",
    "for k0 in range(191):\n",
    "    for k1 in range(191 - k0):\n",
    "        for k2 in range(191 - k0 - k1):\n",
    "            k3 = 190 - (k0+k1+k2)\n",
    "            prob_cenario = stat.multinomial.pmf([k0, k1, k2, k3], n = 190, p=freq_binomial_reduzido)\n",
    "            soma_tudo += prob_cenario\n",
    "            cont_tudo += 1\n",
    "            if prob_cenario <= prob_corte:\n",
    "                soma += prob_cenario\n",
    "                cont_cenarios += 1\n",
    "                \n",
    "print('freq modelo: ', freq_binomial_reduzido)\n",
    "print('obs_reduzido: ', obs_reduzido)\n",
    "print('soma prob: ', soma)\n",
    "print('cenarios piores: ', cont_cenarios)\n",
    "print('soma tudo: ', soma_tudo)\n",
    "print('conta tudo: ', cont_tudo)\n",
    "print('prob corte: ', prob_corte)"
   ]
  },
  {
   "cell_type": "markdown",
   "metadata": {},
   "source": [
    "Verificando que o teste chi-quadrado dá resultado muito próximo"
   ]
  },
  {
   "cell_type": "code",
   "execution_count": null,
   "metadata": {},
   "outputs": [],
   "source": [
    "print('teste chi-quadrado: ', stat.chisquare(f_obs=obs_reduzido, f_exp=freq_binomial_reduzido*190)) # G-test dá praticamente igual"
   ]
  },
  {
   "cell_type": "markdown",
   "metadata": {},
   "source": [
    "O teste multinomial é exato, no sentido que expressa exatamente a chance do modelo, caso seja correto, ter produzido aquelas observações (ou menos prováveis) por acaso.\n",
    "Além disso, procurar os parâmetros do modelo que maximizam o score neste teste é equivalente a maximizar a verossimilhança.\n",
    "No entanto, para um número muito grande de possíveis cenários, as probabilidades são muito pequenas e os erros de arredondamento podem afetar o resultado.\n",
    "Além disso, para casos reais este teste neste formato é pouco prático, pois a varredura de todas as possibilidades facilmente torna-se inviável computacionalmente."
   ]
  },
  {
   "cell_type": "markdown",
   "metadata": {},
   "source": [
    "<h3> Teste multinomial por monte-carlo (bootstrap paramétrico?) <h3>"
   ]
  },
  {
   "cell_type": "markdown",
   "metadata": {},
   "source": [
    "É totalmente baseado no teste multinomial.  Mas ao invés de varrer todas as possíveis ocorrências de um histograma, estima-se a probabilidade $\\sum_{\\omega \\thinspace tal\\thinspace que\\thinspace Pr(X = \\omega)\\geq Pr(X=O)}{Pr(X=\\omega)}$ por amostragem.\n",
    "Dada a variável aleatória $M\\sim multinomial(p)$, onde $p$ é o vetor de probabilidades dado pelo modelo, geramos um número grande $N$ de vetores aleatórios $v_i, i=1..N$, realizações de $M$.\n",
    "Queremos saber se o vetor $O$ é \"típico\" de uma realização de $M$.  Calculamos então as probabilidades $Pr(M = v_i)$ e verificamos em que quantil se posicional $Pr(M = O)$.  Essa é a probabilidade estimada de $M$ gerar uma observação como $O$ ou mais improvável.\n",
    "Na prática usamos o log da probabilidade, pois os números são muito pequenos.  O log da probabilidade não altera a ordenção dos vetores."
   ]
  },
  {
   "cell_type": "code",
   "execution_count": null,
   "metadata": {},
   "outputs": [],
   "source": [
    "def MC_multinomial_test(obs, p, N):\n",
    "    n = sum(obs)\n",
    "    pr_obs = stat.multinomial.logpmf(obs, n, p)\n",
    "    \n",
    "    cont_mais_prov_eq = 0\n",
    "    cont_menos_prov = 0\n",
    "    for i in range(N):\n",
    "        v = stat.multinomial.rvs(n, p)\n",
    "        pr_amostra = stat.multinomial.logpmf(v, n, p)\n",
    "        if pr_amostra >= pr_obs:\n",
    "            cont_mais_prov_eq += 1\n",
    "        else:\n",
    "            cont_menos_prov +=1\n",
    "\n",
    "    return (cont_menos_prov/N)\n"
   ]
  },
  {
   "cell_type": "code",
   "execution_count": null,
   "metadata": {},
   "outputs": [],
   "source": [
    "print(MC_multinomial_test(obs_reduzido, freq_poisson_reduzido, 10000))\n",
    "print(stat.power_divergence(f_obs=obs_reduzido, f_exp=freq_poisson_reduzido*190, lambda_ = 'log-likelihood'))"
   ]
  },
  {
   "cell_type": "code",
   "execution_count": null,
   "metadata": {},
   "outputs": [],
   "source": [
    "print(MC_multinomial_test(obs, freq_estim_poisson, 20000))\n",
    "print(stat.power_divergence(f_obs=obs, f_exp=expected, lambda_ = 'log-likelihood'))"
   ]
  },
  {
   "cell_type": "code",
   "execution_count": null,
   "metadata": {},
   "outputs": [],
   "source": [
    "print(MC_multinomial_test(obs, freq_estim_bin, 20000))\n",
    "print(stat.power_divergence(f_obs=obs, f_exp=expected_bin, lambda_ = 'log-likelihood'))"
   ]
  },
  {
   "cell_type": "markdown",
   "metadata": {},
   "source": [
    "O teste multinomial por amostragem é bem flexível e preciso (embora computacionalmente intenso) e se aplica bem a uma ampla variedade de situações.  Para o nosso caso de placares de futebol parece ser um procedimento adequado."
   ]
  },
  {
   "cell_type": "markdown",
   "metadata": {},
   "source": [
    "<h1>Previsao resultados campeonato brasileiro<h1>"
   ]
  }
 ],
 "metadata": {
  "kernelspec": {
   "display_name": "Python 3",
   "language": "python",
   "name": "python3"
  },
  "language_info": {
   "codemirror_mode": {
    "name": "ipython",
    "version": 3
   },
   "file_extension": ".py",
   "mimetype": "text/x-python",
   "name": "python",
   "nbconvert_exporter": "python",
   "pygments_lexer": "ipython3",
   "version": "3.8.5"
  }
 },
 "nbformat": 4,
 "nbformat_minor": 4
}
