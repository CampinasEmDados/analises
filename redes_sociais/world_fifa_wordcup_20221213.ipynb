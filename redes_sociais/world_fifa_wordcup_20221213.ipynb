{
 "cells": [
  {
   "cell_type": "code",
   "execution_count": 1,
   "id": "e5cc0b9f",
   "metadata": {},
   "outputs": [],
   "source": [
    "import basedosdados as bd"
   ]
  },
  {
   "cell_type": "code",
   "execution_count": 2,
   "id": "2bcf9207",
   "metadata": {},
   "outputs": [],
   "source": [
    "import pandas as pd\n",
    "import numpy as np\n",
    "import matplotlib.pyplot as plt\n",
    "import seaborn as sns"
   ]
  },
  {
   "cell_type": "code",
   "execution_count": 3,
   "id": "4f1f3beb",
   "metadata": {},
   "outputs": [
    {
     "name": "stderr",
     "output_type": "stream",
     "text": [
      "Downloading: 100%|████████████████████████████████████████████████████████████████| 900/900 [00:00<00:00, 935.59rows/s]\n"
     ]
    }
   ],
   "source": [
    "df = bd.read_table(dataset_id='world_fifa_worldcup',\n",
    "table_id='matches',\n",
    "billing_project_id=\"dados-bd-359914\")"
   ]
  },
  {
   "cell_type": "code",
   "execution_count": 4,
   "id": "5eebb628",
   "metadata": {},
   "outputs": [],
   "source": [
    "df_croatia = df[((df['team_a_name'] == 'Croatia')|(df['team_b_name'] == 'Croatia')) ]"
   ]
  },
  {
   "cell_type": "code",
   "execution_count": 5,
   "id": "a27d0723",
   "metadata": {},
   "outputs": [],
   "source": [
    "df_argentina = df[((df['team_a_name'] == 'Argentina')|(df['team_b_name'] == 'Argentina')) ]"
   ]
  },
  {
   "cell_type": "code",
   "execution_count": 6,
   "id": "d2203d22",
   "metadata": {},
   "outputs": [],
   "source": [
    "X = [1,2,3,4,5,6,7,8,9,10]"
   ]
  },
  {
   "cell_type": "code",
   "execution_count": 7,
   "id": "7c13beb9",
   "metadata": {},
   "outputs": [],
   "source": [
    "Y =  [1,2,3,4,5,6,7,8,9,10]"
   ]
  },
  {
   "cell_type": "markdown",
   "id": "cdb3aec5",
   "metadata": {},
   "source": [
    "### jogos Croácia dois tempos"
   ]
  },
  {
   "cell_type": "code",
   "execution_count": 8,
   "id": "f4b15a3a",
   "metadata": {},
   "outputs": [],
   "source": [
    "df_dtb = df_croatia[df_croatia['extra_time']==0]"
   ]
  },
  {
   "cell_type": "code",
   "execution_count": 9,
   "id": "09561df7",
   "metadata": {},
   "outputs": [
    {
     "data": {
      "text/html": [
       "<div>\n",
       "<style scoped>\n",
       "    .dataframe tbody tr th:only-of-type {\n",
       "        vertical-align: middle;\n",
       "    }\n",
       "\n",
       "    .dataframe tbody tr th {\n",
       "        vertical-align: top;\n",
       "    }\n",
       "\n",
       "    .dataframe thead th {\n",
       "        text-align: right;\n",
       "    }\n",
       "</style>\n",
       "<table border=\"1\" class=\"dataframe\">\n",
       "  <thead>\n",
       "    <tr style=\"text-align: right;\">\n",
       "      <th></th>\n",
       "      <th>team_a_name</th>\n",
       "      <th>score</th>\n",
       "      <th>team_b_name</th>\n",
       "      <th>extra_time</th>\n",
       "      <th>penalty_shootout</th>\n",
       "      <th>score_penalties</th>\n",
       "    </tr>\n",
       "  </thead>\n",
       "  <tbody>\n",
       "    <tr>\n",
       "      <th>528</th>\n",
       "      <td>Jamaica</td>\n",
       "      <td>1–3</td>\n",
       "      <td>Croatia</td>\n",
       "      <td>0</td>\n",
       "      <td>0</td>\n",
       "      <td>0-0</td>\n",
       "    </tr>\n",
       "    <tr>\n",
       "      <th>540</th>\n",
       "      <td>Japan</td>\n",
       "      <td>0–1</td>\n",
       "      <td>Croatia</td>\n",
       "      <td>0</td>\n",
       "      <td>0</td>\n",
       "      <td>0-0</td>\n",
       "    </tr>\n",
       "    <tr>\n",
       "      <th>560</th>\n",
       "      <td>Argentina</td>\n",
       "      <td>1–0</td>\n",
       "      <td>Croatia</td>\n",
       "      <td>0</td>\n",
       "      <td>0</td>\n",
       "      <td>0-0</td>\n",
       "    </tr>\n",
       "    <tr>\n",
       "      <th>570</th>\n",
       "      <td>Romania</td>\n",
       "      <td>0–1</td>\n",
       "      <td>Croatia</td>\n",
       "      <td>0</td>\n",
       "      <td>0</td>\n",
       "      <td>0-0</td>\n",
       "    </tr>\n",
       "    <tr>\n",
       "      <th>575</th>\n",
       "      <td>Germany</td>\n",
       "      <td>0–3</td>\n",
       "      <td>Croatia</td>\n",
       "      <td>0</td>\n",
       "      <td>0</td>\n",
       "      <td>0-0</td>\n",
       "    </tr>\n",
       "    <tr>\n",
       "      <th>577</th>\n",
       "      <td>France</td>\n",
       "      <td>2–1</td>\n",
       "      <td>Croatia</td>\n",
       "      <td>0</td>\n",
       "      <td>0</td>\n",
       "      <td>0-0</td>\n",
       "    </tr>\n",
       "    <tr>\n",
       "      <th>578</th>\n",
       "      <td>Netherlands</td>\n",
       "      <td>1–2</td>\n",
       "      <td>Croatia</td>\n",
       "      <td>0</td>\n",
       "      <td>0</td>\n",
       "      <td>0-0</td>\n",
       "    </tr>\n",
       "    <tr>\n",
       "      <th>588</th>\n",
       "      <td>Croatia</td>\n",
       "      <td>0–1</td>\n",
       "      <td>Mexico</td>\n",
       "      <td>0</td>\n",
       "      <td>0</td>\n",
       "      <td>0-0</td>\n",
       "    </tr>\n",
       "    <tr>\n",
       "      <th>604</th>\n",
       "      <td>Italy</td>\n",
       "      <td>1–2</td>\n",
       "      <td>Croatia</td>\n",
       "      <td>0</td>\n",
       "      <td>0</td>\n",
       "      <td>0-0</td>\n",
       "    </tr>\n",
       "    <tr>\n",
       "      <th>622</th>\n",
       "      <td>Ecuador</td>\n",
       "      <td>1–0</td>\n",
       "      <td>Croatia</td>\n",
       "      <td>0</td>\n",
       "      <td>0</td>\n",
       "      <td>0-0</td>\n",
       "    </tr>\n",
       "    <tr>\n",
       "      <th>657</th>\n",
       "      <td>Brazil</td>\n",
       "      <td>1–0</td>\n",
       "      <td>Croatia</td>\n",
       "      <td>0</td>\n",
       "      <td>0</td>\n",
       "      <td>0-0</td>\n",
       "    </tr>\n",
       "    <tr>\n",
       "      <th>670</th>\n",
       "      <td>Japan</td>\n",
       "      <td>0–0</td>\n",
       "      <td>Croatia</td>\n",
       "      <td>0</td>\n",
       "      <td>0</td>\n",
       "      <td>0-0</td>\n",
       "    </tr>\n",
       "    <tr>\n",
       "      <th>686</th>\n",
       "      <td>Croatia</td>\n",
       "      <td>2–2</td>\n",
       "      <td>Australia</td>\n",
       "      <td>0</td>\n",
       "      <td>0</td>\n",
       "      <td>0-0</td>\n",
       "    </tr>\n",
       "    <tr>\n",
       "      <th>772</th>\n",
       "      <td>Brazil</td>\n",
       "      <td>3–1</td>\n",
       "      <td>Croatia</td>\n",
       "      <td>0</td>\n",
       "      <td>0</td>\n",
       "      <td>0-0</td>\n",
       "    </tr>\n",
       "    <tr>\n",
       "      <th>791</th>\n",
       "      <td>Cameroon</td>\n",
       "      <td>0–4</td>\n",
       "      <td>Croatia</td>\n",
       "      <td>0</td>\n",
       "      <td>0</td>\n",
       "      <td>0-0</td>\n",
       "    </tr>\n",
       "    <tr>\n",
       "      <th>807</th>\n",
       "      <td>Croatia</td>\n",
       "      <td>1–3</td>\n",
       "      <td>Mexico</td>\n",
       "      <td>0</td>\n",
       "      <td>0</td>\n",
       "      <td>0-0</td>\n",
       "    </tr>\n",
       "    <tr>\n",
       "      <th>843</th>\n",
       "      <td>Croatia</td>\n",
       "      <td>2–0</td>\n",
       "      <td>Nigeria</td>\n",
       "      <td>0</td>\n",
       "      <td>0</td>\n",
       "      <td>0-0</td>\n",
       "    </tr>\n",
       "    <tr>\n",
       "      <th>858</th>\n",
       "      <td>Argentina</td>\n",
       "      <td>0–3</td>\n",
       "      <td>Croatia</td>\n",
       "      <td>0</td>\n",
       "      <td>0</td>\n",
       "      <td>0-0</td>\n",
       "    </tr>\n",
       "    <tr>\n",
       "      <th>874</th>\n",
       "      <td>Iceland</td>\n",
       "      <td>1–2</td>\n",
       "      <td>Croatia</td>\n",
       "      <td>0</td>\n",
       "      <td>0</td>\n",
       "      <td>0-0</td>\n",
       "    </tr>\n",
       "    <tr>\n",
       "      <th>899</th>\n",
       "      <td>France</td>\n",
       "      <td>4–2</td>\n",
       "      <td>Croatia</td>\n",
       "      <td>0</td>\n",
       "      <td>0</td>\n",
       "      <td>0-0</td>\n",
       "    </tr>\n",
       "  </tbody>\n",
       "</table>\n",
       "</div>"
      ],
      "text/plain": [
       "     team_a_name score team_b_name  extra_time  penalty_shootout  \\\n",
       "528      Jamaica   1–3     Croatia           0                 0   \n",
       "540        Japan   0–1     Croatia           0                 0   \n",
       "560    Argentina   1–0     Croatia           0                 0   \n",
       "570      Romania   0–1     Croatia           0                 0   \n",
       "575      Germany   0–3     Croatia           0                 0   \n",
       "577       France   2–1     Croatia           0                 0   \n",
       "578  Netherlands   1–2     Croatia           0                 0   \n",
       "588      Croatia   0–1      Mexico           0                 0   \n",
       "604        Italy   1–2     Croatia           0                 0   \n",
       "622      Ecuador   1–0     Croatia           0                 0   \n",
       "657       Brazil   1–0     Croatia           0                 0   \n",
       "670        Japan   0–0     Croatia           0                 0   \n",
       "686      Croatia   2–2   Australia           0                 0   \n",
       "772       Brazil   3–1     Croatia           0                 0   \n",
       "791     Cameroon   0–4     Croatia           0                 0   \n",
       "807      Croatia   1–3      Mexico           0                 0   \n",
       "843      Croatia   2–0     Nigeria           0                 0   \n",
       "858    Argentina   0–3     Croatia           0                 0   \n",
       "874      Iceland   1–2     Croatia           0                 0   \n",
       "899       France   4–2     Croatia           0                 0   \n",
       "\n",
       "    score_penalties  \n",
       "528             0-0  \n",
       "540             0-0  \n",
       "560             0-0  \n",
       "570             0-0  \n",
       "575             0-0  \n",
       "577             0-0  \n",
       "578             0-0  \n",
       "588             0-0  \n",
       "604             0-0  \n",
       "622             0-0  \n",
       "657             0-0  \n",
       "670             0-0  \n",
       "686             0-0  \n",
       "772             0-0  \n",
       "791             0-0  \n",
       "807             0-0  \n",
       "843             0-0  \n",
       "858             0-0  \n",
       "874             0-0  \n",
       "899             0-0  "
      ]
     },
     "execution_count": 9,
     "metadata": {},
     "output_type": "execute_result"
    }
   ],
   "source": [
    "df_dtb[['team_a_name','score','team_b_name','extra_time','penalty_shootout','score_penalties']]"
   ]
  },
  {
   "cell_type": "code",
   "execution_count": 10,
   "id": "331ef2ae",
   "metadata": {},
   "outputs": [],
   "source": [
    "# Para a Croácia\n",
    "def lab(df_dtb):\n",
    "    if ((df_dtb['team_a_name'] == 'Croatia') & (df_dtb['team_a_win'] == 1)):\n",
    "        return \"vitória\"\n",
    "    elif ((df_dtb['team_b_name'] == 'Croatia') & (df_dtb['team_b_win'] == 1)):\n",
    "        return \"vitória\"\n",
    "    elif ((df_dtb['team_a_name'] == 'Croatia') & (df_dtb['team_b_win'] == 1)):\n",
    "        return \"derrota\"\n",
    "    elif ((df_dtb['team_b_name'] == 'Croatia') & (df_dtb['team_a_win'] == 1)):\n",
    "        return \"derrota\"\n",
    "    elif  (df_dtb['draw'] == 1):\n",
    "        return \"empate\"\n",
    "\n",
    "df_dtb[\"jogos\"] = df_dtb.apply(lambda df_dtb:lab(df_dtb),axis = 1)"
   ]
  },
  {
   "cell_type": "code",
   "execution_count": 11,
   "id": "e6ecdac0",
   "metadata": {},
   "outputs": [
    {
     "data": {
      "text/plain": [
       "vitória    10\n",
       "derrota     8\n",
       "empate      2\n",
       "Name: jogos, dtype: int64"
      ]
     },
     "execution_count": 11,
     "metadata": {},
     "output_type": "execute_result"
    }
   ],
   "source": [
    "df_dtb[\"jogos\"].value_counts()"
   ]
  },
  {
   "cell_type": "code",
   "execution_count": 12,
   "id": "c9ac545b",
   "metadata": {},
   "outputs": [],
   "source": [
    "X[0] = ((sum(df_dtb[\"jogos\"] == 'vitória') / df_dtb[\"jogos\"].value_counts().sum()) * 100).round(2) \n",
    "X[1] = ((sum(df_dtb[\"jogos\"] == 'derrota') / df_dtb[\"jogos\"].value_counts().sum()) * 100).round(2)\n",
    "X[2] = ((sum(df_dtb[\"jogos\"] == 'empate') / df_dtb[\"jogos\"].value_counts().sum()) * 100).round(2)"
   ]
  },
  {
   "cell_type": "markdown",
   "id": "c23cb2bd",
   "metadata": {},
   "source": [
    "### jogos Argentina dois tempo"
   ]
  },
  {
   "cell_type": "code",
   "execution_count": 13,
   "id": "9beec94e",
   "metadata": {},
   "outputs": [],
   "source": [
    "df_dta = df_argentina[(df_argentina['extra_time']==0)]"
   ]
  },
  {
   "cell_type": "code",
   "execution_count": 14,
   "id": "7474c10e",
   "metadata": {},
   "outputs": [
    {
     "data": {
      "text/html": [
       "<div>\n",
       "<style scoped>\n",
       "    .dataframe tbody tr th:only-of-type {\n",
       "        vertical-align: middle;\n",
       "    }\n",
       "\n",
       "    .dataframe tbody tr th {\n",
       "        vertical-align: top;\n",
       "    }\n",
       "\n",
       "    .dataframe thead th {\n",
       "        text-align: right;\n",
       "    }\n",
       "</style>\n",
       "<table border=\"1\" class=\"dataframe\">\n",
       "  <thead>\n",
       "    <tr style=\"text-align: right;\">\n",
       "      <th></th>\n",
       "      <th>team_a_name</th>\n",
       "      <th>score</th>\n",
       "      <th>team_b_name</th>\n",
       "      <th>extra_time</th>\n",
       "      <th>penalty_shootout</th>\n",
       "      <th>score_penalties</th>\n",
       "    </tr>\n",
       "  </thead>\n",
       "  <tbody>\n",
       "    <tr>\n",
       "      <th>4</th>\n",
       "      <td>Argentina</td>\n",
       "      <td>1–0</td>\n",
       "      <td>France</td>\n",
       "      <td>0</td>\n",
       "      <td>0</td>\n",
       "      <td>0-0</td>\n",
       "    </tr>\n",
       "    <tr>\n",
       "      <th>10</th>\n",
       "      <td>Argentina</td>\n",
       "      <td>6–3</td>\n",
       "      <td>Mexico</td>\n",
       "      <td>0</td>\n",
       "      <td>0</td>\n",
       "      <td>0-0</td>\n",
       "    </tr>\n",
       "    <tr>\n",
       "      <th>14</th>\n",
       "      <td>Argentina</td>\n",
       "      <td>3–1</td>\n",
       "      <td>Chile</td>\n",
       "      <td>0</td>\n",
       "      <td>0</td>\n",
       "      <td>0-0</td>\n",
       "    </tr>\n",
       "    <tr>\n",
       "      <th>15</th>\n",
       "      <td>Argentina</td>\n",
       "      <td>6–1</td>\n",
       "      <td>United States</td>\n",
       "      <td>0</td>\n",
       "      <td>0</td>\n",
       "      <td>0-0</td>\n",
       "    </tr>\n",
       "    <tr>\n",
       "      <th>17</th>\n",
       "      <td>Uruguay</td>\n",
       "      <td>4–2</td>\n",
       "      <td>Argentina</td>\n",
       "      <td>0</td>\n",
       "      <td>0</td>\n",
       "      <td>0-0</td>\n",
       "    </tr>\n",
       "    <tr>\n",
       "      <th>...</th>\n",
       "      <td>...</td>\n",
       "      <td>...</td>\n",
       "      <td>...</td>\n",
       "      <td>...</td>\n",
       "      <td>...</td>\n",
       "      <td>...</td>\n",
       "    </tr>\n",
       "    <tr>\n",
       "      <th>830</th>\n",
       "      <td>Argentina</td>\n",
       "      <td>1–0</td>\n",
       "      <td>Belgium</td>\n",
       "      <td>0</td>\n",
       "      <td>0</td>\n",
       "      <td>0-0</td>\n",
       "    </tr>\n",
       "    <tr>\n",
       "      <th>841</th>\n",
       "      <td>Argentina</td>\n",
       "      <td>1–1</td>\n",
       "      <td>Iceland</td>\n",
       "      <td>0</td>\n",
       "      <td>0</td>\n",
       "      <td>0-0</td>\n",
       "    </tr>\n",
       "    <tr>\n",
       "      <th>858</th>\n",
       "      <td>Argentina</td>\n",
       "      <td>0–3</td>\n",
       "      <td>Croatia</td>\n",
       "      <td>0</td>\n",
       "      <td>0</td>\n",
       "      <td>0-0</td>\n",
       "    </tr>\n",
       "    <tr>\n",
       "      <th>875</th>\n",
       "      <td>Nigeria</td>\n",
       "      <td>1–2</td>\n",
       "      <td>Argentina</td>\n",
       "      <td>0</td>\n",
       "      <td>0</td>\n",
       "      <td>0-0</td>\n",
       "    </tr>\n",
       "    <tr>\n",
       "      <th>884</th>\n",
       "      <td>France</td>\n",
       "      <td>4–3</td>\n",
       "      <td>Argentina</td>\n",
       "      <td>0</td>\n",
       "      <td>0</td>\n",
       "      <td>0-0</td>\n",
       "    </tr>\n",
       "  </tbody>\n",
       "</table>\n",
       "<p>72 rows × 6 columns</p>\n",
       "</div>"
      ],
      "text/plain": [
       "    team_a_name score    team_b_name  extra_time  penalty_shootout  \\\n",
       "4     Argentina   1–0         France           0                 0   \n",
       "10    Argentina   6–3         Mexico           0                 0   \n",
       "14    Argentina   3–1          Chile           0                 0   \n",
       "15    Argentina   6–1  United States           0                 0   \n",
       "17      Uruguay   4–2      Argentina           0                 0   \n",
       "..          ...   ...            ...         ...               ...   \n",
       "830   Argentina   1–0        Belgium           0                 0   \n",
       "841   Argentina   1–1        Iceland           0                 0   \n",
       "858   Argentina   0–3        Croatia           0                 0   \n",
       "875     Nigeria   1–2      Argentina           0                 0   \n",
       "884      France   4–3      Argentina           0                 0   \n",
       "\n",
       "    score_penalties  \n",
       "4               0-0  \n",
       "10              0-0  \n",
       "14              0-0  \n",
       "15              0-0  \n",
       "17              0-0  \n",
       "..              ...  \n",
       "830             0-0  \n",
       "841             0-0  \n",
       "858             0-0  \n",
       "875             0-0  \n",
       "884             0-0  \n",
       "\n",
       "[72 rows x 6 columns]"
      ]
     },
     "execution_count": 14,
     "metadata": {},
     "output_type": "execute_result"
    }
   ],
   "source": [
    "df_dta[['team_a_name','score','team_b_name','extra_time','penalty_shootout','score_penalties']]"
   ]
  },
  {
   "cell_type": "code",
   "execution_count": 15,
   "id": "9d049b2a",
   "metadata": {},
   "outputs": [],
   "source": [
    "def lab(df_dta):\n",
    "    if ((df_dta['team_a_name'] == 'Argentina') & (df_dta['team_a_win'] == 1)):\n",
    "        return \"vitória\"\n",
    "    elif ((df_dta['team_b_name'] == 'Argentina') & (df_dta['team_b_win'] == 1)):\n",
    "        return \"vitória\"\n",
    "    elif ((df_dta['team_a_name'] == 'Argentina') & (df_dta['team_b_win'] == 1)):\n",
    "        return \"derrota\"\n",
    "    elif ((df_dta['team_b_name'] == 'Argentina') & (df_dta['team_a_win'] == 1)):\n",
    "        return \"derrota\"\n",
    "    elif  (df_dta['draw'] == 1):\n",
    "        return \"empate\"\n",
    "\n",
    "df_dta[\"jogos\"] = df_dta.apply(lambda df_dta:lab(df_dta),axis = 1)"
   ]
  },
  {
   "cell_type": "code",
   "execution_count": 16,
   "id": "254af987",
   "metadata": {},
   "outputs": [
    {
     "data": {
      "text/plain": [
       "vitória    40\n",
       "derrota    22\n",
       "empate     10\n",
       "Name: jogos, dtype: int64"
      ]
     },
     "execution_count": 16,
     "metadata": {},
     "output_type": "execute_result"
    }
   ],
   "source": [
    "df_dta[\"jogos\"].value_counts()"
   ]
  },
  {
   "cell_type": "code",
   "execution_count": 17,
   "id": "d47eeae5",
   "metadata": {},
   "outputs": [],
   "source": [
    "Y[0] = ((sum(df_dta[\"jogos\"] == 'vitória') / df_dta[\"jogos\"].value_counts().sum()) * 100).round(2) \n",
    "Y[1] = ((sum(df_dta[\"jogos\"] == 'derrota') / df_dta[\"jogos\"].value_counts().sum()) * 100).round(2)\n",
    "Y[2] = ((sum(df_dta[\"jogos\"] == 'empate') / df_dta[\"jogos\"].value_counts().sum()) * 100).round(2)"
   ]
  },
  {
   "cell_type": "markdown",
   "id": "050a4e7d",
   "metadata": {},
   "source": [
    "### jogo Croácia prorrogação "
   ]
  },
  {
   "cell_type": "code",
   "execution_count": 18,
   "id": "cda07728",
   "metadata": {},
   "outputs": [],
   "source": [
    "df_ppb = df_croatia[(df_croatia['extra_time']==1)&(df_croatia['penalty_shootout']==0)]"
   ]
  },
  {
   "cell_type": "code",
   "execution_count": 19,
   "id": "ae178b39",
   "metadata": {},
   "outputs": [
    {
     "data": {
      "text/html": [
       "<div>\n",
       "<style scoped>\n",
       "    .dataframe tbody tr th:only-of-type {\n",
       "        vertical-align: middle;\n",
       "    }\n",
       "\n",
       "    .dataframe tbody tr th {\n",
       "        vertical-align: top;\n",
       "    }\n",
       "\n",
       "    .dataframe thead th {\n",
       "        text-align: right;\n",
       "    }\n",
       "</style>\n",
       "<table border=\"1\" class=\"dataframe\">\n",
       "  <thead>\n",
       "    <tr style=\"text-align: right;\">\n",
       "      <th></th>\n",
       "      <th>year</th>\n",
       "      <th>replayed</th>\n",
       "      <th>stage_name</th>\n",
       "      <th>match_id</th>\n",
       "      <th>team_a_name</th>\n",
       "      <th>score</th>\n",
       "      <th>team_b_name</th>\n",
       "      <th>extra_time</th>\n",
       "      <th>penalty_shootout</th>\n",
       "      <th>score_penalties</th>\n",
       "    </tr>\n",
       "  </thead>\n",
       "  <tbody>\n",
       "    <tr>\n",
       "      <th>897</th>\n",
       "      <td>2018</td>\n",
       "      <td>0</td>\n",
       "      <td>semi-finals</td>\n",
       "      <td>M-2018-62</td>\n",
       "      <td>Croatia</td>\n",
       "      <td>2–1</td>\n",
       "      <td>England</td>\n",
       "      <td>1</td>\n",
       "      <td>0</td>\n",
       "      <td>0-0</td>\n",
       "    </tr>\n",
       "  </tbody>\n",
       "</table>\n",
       "</div>"
      ],
      "text/plain": [
       "     year  replayed   stage_name   match_id team_a_name score team_b_name  \\\n",
       "897  2018         0  semi-finals  M-2018-62     Croatia   2–1     England   \n",
       "\n",
       "     extra_time  penalty_shootout score_penalties  \n",
       "897           1                 0             0-0  "
      ]
     },
     "execution_count": 19,
     "metadata": {},
     "output_type": "execute_result"
    }
   ],
   "source": [
    "df_ppb[['year','replayed','stage_name','match_id','team_a_name','score','team_b_name','extra_time','penalty_shootout','score_penalties']]"
   ]
  },
  {
   "cell_type": "code",
   "execution_count": 20,
   "id": "a75b705e",
   "metadata": {},
   "outputs": [],
   "source": [
    "def lab(df_ppb):   \n",
    "    if ((df_ppb['team_a_name'] == 'Croatia') & (df_ppb['team_a_win'] == 1)):\n",
    "        return \"vitória\"\n",
    "    elif ((df_ppb['team_b_name'] == 'Croatia') & (df_ppb['team_b_win'] == 1)):\n",
    "        return \"vitória\"\n",
    "    elif ((df_ppb['team_a_name'] == 'Croatia') & (df_ppb['team_b_win'] == 1)):\n",
    "        return \"derrota\"\n",
    "    elif ((df_ppb['team_b_name'] == 'Croatia') & (df_ppb['team_a_win'] == 1)):\n",
    "        return \"derrota\"\n",
    "\n",
    "    \n",
    "df_ppb[\"jogos\"] = df_ppb.apply(lambda df_ppb:lab(df_ppb),axis = 1)"
   ]
  },
  {
   "cell_type": "code",
   "execution_count": 21,
   "id": "8317c1ea",
   "metadata": {},
   "outputs": [
    {
     "data": {
      "text/plain": [
       "vitória    1\n",
       "Name: jogos, dtype: int64"
      ]
     },
     "execution_count": 21,
     "metadata": {},
     "output_type": "execute_result"
    }
   ],
   "source": [
    "df_ppb[\"jogos\"].value_counts()"
   ]
  },
  {
   "cell_type": "code",
   "execution_count": 22,
   "id": "8a78ac6a",
   "metadata": {},
   "outputs": [],
   "source": [
    "X[3] = ((sum(df_ppb[\"jogos\"] == 'vitória') / df_ppb[\"jogos\"].value_counts().sum()) * 100).round(2) \n",
    "X[4] = ((sum(df_ppb[\"jogos\"] == 'derrota') / df_ppb[\"jogos\"].value_counts().sum()) * 100).round(2)\n"
   ]
  },
  {
   "cell_type": "markdown",
   "id": "469cecb7",
   "metadata": {},
   "source": [
    "### jogos Argentina prorrogação"
   ]
  },
  {
   "cell_type": "code",
   "execution_count": 23,
   "id": "f83bc33a",
   "metadata": {},
   "outputs": [],
   "source": [
    "df_ppa = df_argentina[(df_argentina['extra_time']==1)&(df_argentina['penalty_shootout']==0)]"
   ]
  },
  {
   "cell_type": "code",
   "execution_count": 24,
   "id": "b721a998",
   "metadata": {},
   "outputs": [
    {
     "data": {
      "text/html": [
       "<div>\n",
       "<style scoped>\n",
       "    .dataframe tbody tr th:only-of-type {\n",
       "        vertical-align: middle;\n",
       "    }\n",
       "\n",
       "    .dataframe tbody tr th {\n",
       "        vertical-align: top;\n",
       "    }\n",
       "\n",
       "    .dataframe thead th {\n",
       "        text-align: right;\n",
       "    }\n",
       "</style>\n",
       "<table border=\"1\" class=\"dataframe\">\n",
       "  <thead>\n",
       "    <tr style=\"text-align: right;\">\n",
       "      <th></th>\n",
       "      <th>year</th>\n",
       "      <th>team_a_score</th>\n",
       "      <th>team_b_score</th>\n",
       "      <th>team_a_name</th>\n",
       "      <th>score</th>\n",
       "      <th>team_b_name</th>\n",
       "      <th>extra_time</th>\n",
       "      <th>penalty_shootout</th>\n",
       "      <th>score_penalties</th>\n",
       "      <th>draw</th>\n",
       "    </tr>\n",
       "  </thead>\n",
       "  <tbody>\n",
       "    <tr>\n",
       "      <th>307</th>\n",
       "      <td>1978</td>\n",
       "      <td>3</td>\n",
       "      <td>1</td>\n",
       "      <td>Argentina</td>\n",
       "      <td>3–1</td>\n",
       "      <td>Netherlands</td>\n",
       "      <td>1</td>\n",
       "      <td>0</td>\n",
       "      <td>0-0</td>\n",
       "      <td>0</td>\n",
       "    </tr>\n",
       "    <tr>\n",
       "      <th>693</th>\n",
       "      <td>2006</td>\n",
       "      <td>2</td>\n",
       "      <td>1</td>\n",
       "      <td>Argentina</td>\n",
       "      <td>2–1</td>\n",
       "      <td>Mexico</td>\n",
       "      <td>1</td>\n",
       "      <td>0</td>\n",
       "      <td>0-0</td>\n",
       "      <td>0</td>\n",
       "    </tr>\n",
       "    <tr>\n",
       "      <th>826</th>\n",
       "      <td>2014</td>\n",
       "      <td>1</td>\n",
       "      <td>0</td>\n",
       "      <td>Argentina</td>\n",
       "      <td>1–0</td>\n",
       "      <td>Switzerland</td>\n",
       "      <td>1</td>\n",
       "      <td>0</td>\n",
       "      <td>0-0</td>\n",
       "      <td>0</td>\n",
       "    </tr>\n",
       "    <tr>\n",
       "      <th>835</th>\n",
       "      <td>2014</td>\n",
       "      <td>1</td>\n",
       "      <td>0</td>\n",
       "      <td>Germany</td>\n",
       "      <td>1–0</td>\n",
       "      <td>Argentina</td>\n",
       "      <td>1</td>\n",
       "      <td>0</td>\n",
       "      <td>0-0</td>\n",
       "      <td>0</td>\n",
       "    </tr>\n",
       "  </tbody>\n",
       "</table>\n",
       "</div>"
      ],
      "text/plain": [
       "     year  team_a_score  team_b_score team_a_name score  team_b_name  \\\n",
       "307  1978             3             1   Argentina   3–1  Netherlands   \n",
       "693  2006             2             1   Argentina   2–1       Mexico   \n",
       "826  2014             1             0   Argentina   1–0  Switzerland   \n",
       "835  2014             1             0     Germany   1–0    Argentina   \n",
       "\n",
       "     extra_time  penalty_shootout score_penalties  draw  \n",
       "307           1                 0             0-0     0  \n",
       "693           1                 0             0-0     0  \n",
       "826           1                 0             0-0     0  \n",
       "835           1                 0             0-0     0  "
      ]
     },
     "execution_count": 24,
     "metadata": {},
     "output_type": "execute_result"
    }
   ],
   "source": [
    "df_ppa[['year','team_a_score','team_b_score','team_a_name','score','team_b_name','extra_time','penalty_shootout','score_penalties','draw']]"
   ]
  },
  {
   "cell_type": "code",
   "execution_count": 25,
   "id": "21c80ec4",
   "metadata": {},
   "outputs": [],
   "source": [
    "def lab(df_ppa):   \n",
    "    if ((df_ppa['team_a_name'] == 'Argentina') & (df_ppa['team_a_win'] == 1)):\n",
    "        return \"vitória\"\n",
    "    elif ((df_ppa['team_b_name'] == 'Argentina') & (df_ppa['team_b_win'] == 1)):\n",
    "        return \"vitória\"\n",
    "    elif ((df_ppa['team_a_name'] == 'Argentina') & (df_ppa['team_b_win'] == 1)):\n",
    "        return \"derrota\"\n",
    "    elif ((df_ppa['team_b_name'] == 'Argentina') & (df_ppa['team_a_win'] == 1)):\n",
    "        return \"derrota\"\n",
    "\n",
    "\n",
    "df_ppa[\"jogos\"] = df_ppa.apply(lambda df_ppa:lab(df_ppa),axis = 1)    "
   ]
  },
  {
   "cell_type": "code",
   "execution_count": 26,
   "id": "b187c9a4",
   "metadata": {},
   "outputs": [
    {
     "data": {
      "text/plain": [
       "vitória    3\n",
       "derrota    1\n",
       "Name: jogos, dtype: int64"
      ]
     },
     "execution_count": 26,
     "metadata": {},
     "output_type": "execute_result"
    }
   ],
   "source": [
    "df_ppa[\"jogos\"].value_counts()"
   ]
  },
  {
   "cell_type": "code",
   "execution_count": 27,
   "id": "1b724807",
   "metadata": {},
   "outputs": [],
   "source": [
    "Y[3] = ((sum(df_ppa[\"jogos\"] == 'vitória') / df_ppa[\"jogos\"].value_counts().sum()) * 100).round(2) \n",
    "Y[4] = ((sum(df_ppa[\"jogos\"] == 'derrota') / df_ppa[\"jogos\"].value_counts().sum()) * 100).round(2)\n"
   ]
  },
  {
   "cell_type": "markdown",
   "id": "f7831ea1",
   "metadata": {},
   "source": [
    "### pênaltis Croácia"
   ]
  },
  {
   "cell_type": "code",
   "execution_count": 28,
   "id": "3b1b94a0",
   "metadata": {},
   "outputs": [],
   "source": [
    "df_pb = df_croatia[df_croatia['penalty_shootout']==1]"
   ]
  },
  {
   "cell_type": "code",
   "execution_count": 29,
   "id": "2d6a0fbb",
   "metadata": {},
   "outputs": [
    {
     "data": {
      "text/html": [
       "<div>\n",
       "<style scoped>\n",
       "    .dataframe tbody tr th:only-of-type {\n",
       "        vertical-align: middle;\n",
       "    }\n",
       "\n",
       "    .dataframe tbody tr th {\n",
       "        vertical-align: top;\n",
       "    }\n",
       "\n",
       "    .dataframe thead th {\n",
       "        text-align: right;\n",
       "    }\n",
       "</style>\n",
       "<table border=\"1\" class=\"dataframe\">\n",
       "  <thead>\n",
       "    <tr style=\"text-align: right;\">\n",
       "      <th></th>\n",
       "      <th>team_a_name</th>\n",
       "      <th>score</th>\n",
       "      <th>team_b_name</th>\n",
       "      <th>extra_time</th>\n",
       "      <th>score_penalties</th>\n",
       "      <th>team_a_win</th>\n",
       "      <th>team_b_win</th>\n",
       "    </tr>\n",
       "  </thead>\n",
       "  <tbody>\n",
       "    <tr>\n",
       "      <th>887</th>\n",
       "      <td>Croatia</td>\n",
       "      <td>1–1</td>\n",
       "      <td>Denmark</td>\n",
       "      <td>1</td>\n",
       "      <td>3–2</td>\n",
       "      <td>1</td>\n",
       "      <td>0</td>\n",
       "    </tr>\n",
       "    <tr>\n",
       "      <th>895</th>\n",
       "      <td>Russia</td>\n",
       "      <td>2–2</td>\n",
       "      <td>Croatia</td>\n",
       "      <td>1</td>\n",
       "      <td>3–4</td>\n",
       "      <td>0</td>\n",
       "      <td>1</td>\n",
       "    </tr>\n",
       "  </tbody>\n",
       "</table>\n",
       "</div>"
      ],
      "text/plain": [
       "    team_a_name score team_b_name  extra_time score_penalties  team_a_win  \\\n",
       "887     Croatia   1–1     Denmark           1             3–2           1   \n",
       "895      Russia   2–2     Croatia           1             3–4           0   \n",
       "\n",
       "     team_b_win  \n",
       "887           0  \n",
       "895           1  "
      ]
     },
     "execution_count": 29,
     "metadata": {},
     "output_type": "execute_result"
    }
   ],
   "source": [
    "df_pb[['team_a_name','score','team_b_name','extra_time','score_penalties','team_a_win','team_b_win']]"
   ]
  },
  {
   "cell_type": "code",
   "execution_count": 30,
   "id": "cc7d706d",
   "metadata": {},
   "outputs": [],
   "source": [
    "def lab(df_pb):\n",
    "    if ((df_pb['team_a_name'] == 'Croatia') & (df_pb['team_a_win'] == 1)):\n",
    "        return \"vitória\"\n",
    "    elif ((df_pb['team_b_name'] == 'Croatia') & (df_pb['team_b_win'] == 1)):\n",
    "        return \"vitória\"\n",
    "    elif ((df_pb['team_a_name'] == 'Croatia') & (df_pb['team_b_win'] == 1)):\n",
    "        return \"derrota\"\n",
    "    elif ((df_pb['team_b_name'] == 'Croatia') & (df_pb['team_a_win'] == 1)):\n",
    "        return \"derrota\"\n",
    "\n",
    "df_pb[\"jogos\"] = df_pb.apply(lambda df_pb:lab(df_pb),axis = 1)"
   ]
  },
  {
   "cell_type": "code",
   "execution_count": 31,
   "id": "13cb2a3d",
   "metadata": {},
   "outputs": [
    {
     "data": {
      "text/plain": [
       "vitória    2\n",
       "Name: jogos, dtype: int64"
      ]
     },
     "execution_count": 31,
     "metadata": {},
     "output_type": "execute_result"
    }
   ],
   "source": [
    "df_pb[\"jogos\"].value_counts()"
   ]
  },
  {
   "cell_type": "code",
   "execution_count": 32,
   "id": "00094f9b",
   "metadata": {},
   "outputs": [],
   "source": [
    "X[5] = ((sum(df_pb[\"jogos\"] == 'vitória') / df_pb[\"jogos\"].value_counts().sum()) * 100).round(2) \n",
    "X[6] = ((sum(df_pb[\"jogos\"] == 'derrota') / df_pb[\"jogos\"].value_counts().sum()) * 100).round(2)"
   ]
  },
  {
   "cell_type": "markdown",
   "id": "5b5764c0",
   "metadata": {},
   "source": [
    "### pênaltis Argentina"
   ]
  },
  {
   "cell_type": "code",
   "execution_count": 33,
   "id": "e86ca7ae",
   "metadata": {},
   "outputs": [],
   "source": [
    "df_pa = df_argentina[df_argentina['penalty_shootout']==1]"
   ]
  },
  {
   "cell_type": "code",
   "execution_count": 34,
   "id": "4869cc99",
   "metadata": {},
   "outputs": [
    {
     "data": {
      "text/html": [
       "<div>\n",
       "<style scoped>\n",
       "    .dataframe tbody tr th:only-of-type {\n",
       "        vertical-align: middle;\n",
       "    }\n",
       "\n",
       "    .dataframe tbody tr th {\n",
       "        vertical-align: top;\n",
       "    }\n",
       "\n",
       "    .dataframe thead th {\n",
       "        text-align: right;\n",
       "    }\n",
       "</style>\n",
       "<table border=\"1\" class=\"dataframe\">\n",
       "  <thead>\n",
       "    <tr style=\"text-align: right;\">\n",
       "      <th></th>\n",
       "      <th>team_a_name</th>\n",
       "      <th>score</th>\n",
       "      <th>team_b_name</th>\n",
       "      <th>extra_time</th>\n",
       "      <th>score_penalties</th>\n",
       "    </tr>\n",
       "  </thead>\n",
       "  <tbody>\n",
       "    <tr>\n",
       "      <th>456</th>\n",
       "      <td>Argentina</td>\n",
       "      <td>0–0</td>\n",
       "      <td>Yugoslavia</td>\n",
       "      <td>1</td>\n",
       "      <td>3–2</td>\n",
       "    </tr>\n",
       "    <tr>\n",
       "      <th>460</th>\n",
       "      <td>Argentina</td>\n",
       "      <td>1–1</td>\n",
       "      <td>Italy</td>\n",
       "      <td>1</td>\n",
       "      <td>4–3</td>\n",
       "    </tr>\n",
       "    <tr>\n",
       "      <th>571</th>\n",
       "      <td>Argentina</td>\n",
       "      <td>2–2</td>\n",
       "      <td>England</td>\n",
       "      <td>1</td>\n",
       "      <td>4–3</td>\n",
       "    </tr>\n",
       "    <tr>\n",
       "      <th>700</th>\n",
       "      <td>Germany</td>\n",
       "      <td>1–1</td>\n",
       "      <td>Argentina</td>\n",
       "      <td>1</td>\n",
       "      <td>4–2</td>\n",
       "    </tr>\n",
       "    <tr>\n",
       "      <th>833</th>\n",
       "      <td>Netherlands</td>\n",
       "      <td>0–0</td>\n",
       "      <td>Argentina</td>\n",
       "      <td>1</td>\n",
       "      <td>2–4</td>\n",
       "    </tr>\n",
       "  </tbody>\n",
       "</table>\n",
       "</div>"
      ],
      "text/plain": [
       "     team_a_name score team_b_name  extra_time score_penalties\n",
       "456    Argentina   0–0  Yugoslavia           1             3–2\n",
       "460    Argentina   1–1       Italy           1             4–3\n",
       "571    Argentina   2–2     England           1             4–3\n",
       "700      Germany   1–1   Argentina           1             4–2\n",
       "833  Netherlands   0–0   Argentina           1             2–4"
      ]
     },
     "execution_count": 34,
     "metadata": {},
     "output_type": "execute_result"
    }
   ],
   "source": [
    "df_pa[['team_a_name','score','team_b_name','extra_time','score_penalties']]"
   ]
  },
  {
   "cell_type": "code",
   "execution_count": 35,
   "id": "6db6d327",
   "metadata": {},
   "outputs": [],
   "source": [
    "def lab(df_pa):\n",
    "    if ((df_pa['team_a_name'] == 'Argentina') & (df_pa['team_a_win'] == 1)):\n",
    "        return \"vitória\"\n",
    "    elif ((df_pa['team_b_name'] == 'Argentina') & (df_pa['team_b_win'] == 1)):\n",
    "        return \"vitória\"\n",
    "    elif ((df_pa['team_a_name'] == 'Argentina') & (df_pa['team_b_win'] == 1)):\n",
    "        return \"derrota\"\n",
    "    elif ((df_pa['team_b_name'] == 'Argentina') & (df_pa['team_a_win'] == 1)):\n",
    "        return \"derrota\"\n",
    "\n",
    "df_pa[\"jogos\"] = df_pa.apply(lambda df_pa:lab(df_pa),axis = 1)"
   ]
  },
  {
   "cell_type": "code",
   "execution_count": 36,
   "id": "ba0d5e1b",
   "metadata": {},
   "outputs": [
    {
     "data": {
      "text/plain": [
       "vitória    4\n",
       "derrota    1\n",
       "Name: jogos, dtype: int64"
      ]
     },
     "execution_count": 36,
     "metadata": {},
     "output_type": "execute_result"
    }
   ],
   "source": [
    "df_pa[\"jogos\"].value_counts()"
   ]
  },
  {
   "cell_type": "code",
   "execution_count": 37,
   "id": "7d041242",
   "metadata": {},
   "outputs": [],
   "source": [
    "Y[5] = ((sum(df_pa[\"jogos\"] == 'vitória') / df_pa[\"jogos\"].value_counts().sum()) * 100).round(2)\n",
    "Y[6] = ((sum(df_pa[\"jogos\"] == 'derrota') / df_pa[\"jogos\"].value_counts().sum()) * 100).round(2)"
   ]
  },
  {
   "cell_type": "markdown",
   "id": "b1b706bc",
   "metadata": {},
   "source": [
    "### total Croácia\n"
   ]
  },
  {
   "cell_type": "code",
   "execution_count": 38,
   "id": "7d91d069",
   "metadata": {},
   "outputs": [],
   "source": [
    "df_3 = df_croatia"
   ]
  },
  {
   "cell_type": "code",
   "execution_count": 39,
   "id": "4657d1e0",
   "metadata": {},
   "outputs": [],
   "source": [
    "# Total Croácia\n",
    "def lab(df_3):\n",
    "    if ((df_3['team_a_name'] == 'Croatia') & (df_3['team_a_win'] == 1)):\n",
    "        return \"vitória\"\n",
    "    elif ((df_3['team_b_name'] == 'Croatia') & (df_3['team_b_win'] == 1)):\n",
    "        return \"vitória\"\n",
    "    elif ((df_3['team_a_name'] == 'Croatia') & (df_3['team_b_win'] == 1)):\n",
    "        return \"derrota\"\n",
    "    elif ((df_3['team_b_name'] == 'Croatia') & (df_3['team_a_win'] == 1)):\n",
    "        return \"derrota\"\n",
    "    elif  (df_3['draw'] == 1):\n",
    "        return \"empate\"\n",
    "\n",
    "df_3[\"jogos\"] = df_3.apply(lambda df_3:lab(df_3),axis = 1)"
   ]
  },
  {
   "cell_type": "code",
   "execution_count": 40,
   "id": "e1e6bc1d",
   "metadata": {},
   "outputs": [
    {
     "data": {
      "text/plain": [
       "vitória    13\n",
       "derrota     8\n",
       "empate      2\n",
       "Name: jogos, dtype: int64"
      ]
     },
     "execution_count": 40,
     "metadata": {},
     "output_type": "execute_result"
    }
   ],
   "source": [
    "df_3[\"jogos\"].value_counts()"
   ]
  },
  {
   "cell_type": "code",
   "execution_count": 41,
   "id": "ccc5d573",
   "metadata": {},
   "outputs": [],
   "source": [
    "X[7] = ((sum(df_3[\"jogos\"] == 'vitória') / df_3[\"jogos\"].value_counts().sum()) * 100).round(2) \n",
    "X[8] = ((sum(df_3[\"jogos\"] == 'derrota') / df_3[\"jogos\"].value_counts().sum()) * 100).round(2)\n",
    "X[9] = ((sum(df_3[\"jogos\"] == 'empate') / df_3[\"jogos\"].value_counts().sum()) * 100).round(2)"
   ]
  },
  {
   "cell_type": "markdown",
   "id": "d399496e",
   "metadata": {},
   "source": [
    "### total Argentina"
   ]
  },
  {
   "cell_type": "code",
   "execution_count": 42,
   "id": "2101ea23",
   "metadata": {},
   "outputs": [],
   "source": [
    "df_2 = df_argentina"
   ]
  },
  {
   "cell_type": "code",
   "execution_count": 43,
   "id": "1c198ff5",
   "metadata": {},
   "outputs": [],
   "source": [
    "def lab(df_2):\n",
    "    if ((df_2['team_a_name'] == 'Argentina') & (df_2['team_a_win'] == 1)):\n",
    "        return \"vitória\"\n",
    "    elif ((df_2['team_b_name'] == 'Argentina') & (df_2['team_b_win'] == 1)):\n",
    "        return \"vitória\"\n",
    "    elif ((df_2['team_a_name'] == 'Argentina') & (df_2['team_b_win'] == 1)):\n",
    "        return \"derrota\"\n",
    "    elif ((df_2['team_b_name'] == 'Argentina') & (df_2['team_a_win'] == 1)):\n",
    "        return \"derrota\"\n",
    "    elif  (df_2['draw'] == 1):\n",
    "        return \"empate\"\n",
    "\n",
    "df_2[\"jogos\"] = df_2.apply(lambda df_3:lab(df_3),axis = 1)"
   ]
  },
  {
   "cell_type": "code",
   "execution_count": 44,
   "id": "cccea8cf",
   "metadata": {},
   "outputs": [
    {
     "data": {
      "text/plain": [
       "vitória    47\n",
       "derrota    24\n",
       "empate     10\n",
       "Name: jogos, dtype: int64"
      ]
     },
     "execution_count": 44,
     "metadata": {},
     "output_type": "execute_result"
    }
   ],
   "source": [
    "df_2[\"jogos\"].value_counts()"
   ]
  },
  {
   "cell_type": "code",
   "execution_count": 45,
   "id": "de80b4a2",
   "metadata": {},
   "outputs": [],
   "source": [
    "Y[7] = ((sum(df_2[\"jogos\"] == 'vitória') / df_2[\"jogos\"].value_counts().sum()) * 100).round(2)\n",
    "Y[8] = ((sum(df_2[\"jogos\"] == 'derrota') / df_2[\"jogos\"].value_counts().sum()) * 100).round(2)\n",
    "Y[9] = ((sum(df_2[\"jogos\"] == 'empate') / df_2[\"jogos\"].value_counts().sum()) * 100).round(2)"
   ]
  },
  {
   "cell_type": "code",
   "execution_count": 46,
   "id": "4be1f4bb",
   "metadata": {},
   "outputs": [],
   "source": [
    "Z = ['Vitória (dois tempos)','Derrota (dois tempos)', 'Empate (dois tempos)','Vitória (prorrogação)','Derrota (prorrogação)','Vitória (pênaltis)', 'Derrota (pênaltis)', 'Vitória', 'Derrota','Empate']"
   ]
  },
  {
   "cell_type": "code",
   "execution_count": 47,
   "id": "d147f6cb",
   "metadata": {},
   "outputs": [],
   "source": [
    "data_1 = {'index' : Z, 'croacia': X, 'argentina': Y}"
   ]
  },
  {
   "cell_type": "code",
   "execution_count": 48,
   "id": "106fd3b8",
   "metadata": {},
   "outputs": [],
   "source": [
    "df = pd.DataFrame(data_1)"
   ]
  },
  {
   "cell_type": "code",
   "execution_count": 49,
   "id": "b2b074d9",
   "metadata": {},
   "outputs": [],
   "source": [
    "df = df.set_index('index')"
   ]
  },
  {
   "cell_type": "code",
   "execution_count": 50,
   "id": "aa128132",
   "metadata": {
    "scrolled": true
   },
   "outputs": [
    {
     "data": {
      "text/html": [
       "<div>\n",
       "<style scoped>\n",
       "    .dataframe tbody tr th:only-of-type {\n",
       "        vertical-align: middle;\n",
       "    }\n",
       "\n",
       "    .dataframe tbody tr th {\n",
       "        vertical-align: top;\n",
       "    }\n",
       "\n",
       "    .dataframe thead th {\n",
       "        text-align: right;\n",
       "    }\n",
       "</style>\n",
       "<table border=\"1\" class=\"dataframe\">\n",
       "  <thead>\n",
       "    <tr style=\"text-align: right;\">\n",
       "      <th></th>\n",
       "      <th>croacia</th>\n",
       "      <th>argentina</th>\n",
       "    </tr>\n",
       "    <tr>\n",
       "      <th>index</th>\n",
       "      <th></th>\n",
       "      <th></th>\n",
       "    </tr>\n",
       "  </thead>\n",
       "  <tbody>\n",
       "    <tr>\n",
       "      <th>Vitória (dois tempos)</th>\n",
       "      <td>50.00</td>\n",
       "      <td>55.56</td>\n",
       "    </tr>\n",
       "    <tr>\n",
       "      <th>Derrota (dois tempos)</th>\n",
       "      <td>40.00</td>\n",
       "      <td>30.56</td>\n",
       "    </tr>\n",
       "    <tr>\n",
       "      <th>Empate (dois tempos)</th>\n",
       "      <td>10.00</td>\n",
       "      <td>13.89</td>\n",
       "    </tr>\n",
       "    <tr>\n",
       "      <th>Vitória (prorrogação)</th>\n",
       "      <td>100.00</td>\n",
       "      <td>75.00</td>\n",
       "    </tr>\n",
       "    <tr>\n",
       "      <th>Derrota (prorrogação)</th>\n",
       "      <td>0.00</td>\n",
       "      <td>25.00</td>\n",
       "    </tr>\n",
       "    <tr>\n",
       "      <th>Vitória (pênaltis)</th>\n",
       "      <td>100.00</td>\n",
       "      <td>80.00</td>\n",
       "    </tr>\n",
       "    <tr>\n",
       "      <th>Derrota (pênaltis)</th>\n",
       "      <td>0.00</td>\n",
       "      <td>20.00</td>\n",
       "    </tr>\n",
       "    <tr>\n",
       "      <th>Vitória</th>\n",
       "      <td>56.52</td>\n",
       "      <td>58.02</td>\n",
       "    </tr>\n",
       "    <tr>\n",
       "      <th>Derrota</th>\n",
       "      <td>34.78</td>\n",
       "      <td>29.63</td>\n",
       "    </tr>\n",
       "    <tr>\n",
       "      <th>Empate</th>\n",
       "      <td>8.70</td>\n",
       "      <td>12.35</td>\n",
       "    </tr>\n",
       "  </tbody>\n",
       "</table>\n",
       "</div>"
      ],
      "text/plain": [
       "                       croacia  argentina\n",
       "index                                    \n",
       "Vitória (dois tempos)    50.00      55.56\n",
       "Derrota (dois tempos)    40.00      30.56\n",
       "Empate (dois tempos)     10.00      13.89\n",
       "Vitória (prorrogação)   100.00      75.00\n",
       "Derrota (prorrogação)     0.00      25.00\n",
       "Vitória (pênaltis)      100.00      80.00\n",
       "Derrota (pênaltis)        0.00      20.00\n",
       "Vitória                  56.52      58.02\n",
       "Derrota                  34.78      29.63\n",
       "Empate                    8.70      12.35"
      ]
     },
     "execution_count": 50,
     "metadata": {},
     "output_type": "execute_result"
    }
   ],
   "source": [
    "df"
   ]
  },
  {
   "cell_type": "code",
   "execution_count": 51,
   "id": "86cf2f61",
   "metadata": {},
   "outputs": [],
   "source": [
    "font_color = '#525252'\n",
    "hfont = {'fontname':'Calibri'}\n",
    "facecolor = '#eaeaf2'\n",
    "color_red = '#fd625e'\n",
    "color_blue = '#01b8aa'\n",
    "index = df.index\n",
    "column0 = df['argentina']\n",
    "column1 = df['croacia']\n",
    "title0 = 'Argentina'\n",
    "title1 = 'Croácia'"
   ]
  },
  {
   "cell_type": "code",
   "execution_count": 52,
   "id": "ff3c7d17",
   "metadata": {},
   "outputs": [
    {
     "data": {
      "image/png": "[encoded data removed]",
      "text/plain": [
       "<Figure size 1000x500 with 2 Axes>"
      ]
     },
     "metadata": {},
     "output_type": "display_data"
    }
   ],
   "source": [
    "fig, axes = plt.subplots(figsize=(10,5), facecolor=facecolor, ncols=2, sharey=True)\n",
    "fig.tight_layout()\n",
    "\n",
    "axes[0].barh(index, column0, align='center', color=color_red, zorder=10)\n",
    "axes[0].set_title(title0, fontsize=18, pad=15, color=color_red, **hfont)\n",
    "axes[1].barh(index, column1, align='center', color=color_blue, zorder=10)\n",
    "axes[1].set_title(title1, fontsize=18, pad=15, color=color_blue, **hfont)\n",
    "\n",
    "\n",
    "axes[0].invert_xaxis() \n",
    "\n",
    "plt.gca().invert_yaxis()\n",
    "\n",
    "axes[0].set_xticks([10, 20, 30, 40, 50, 60, 70, 80, 90,100])\n",
    "axes[1].set_xticks([10, 20, 30, 40, 50, 60, 70, 80,90,100])\n",
    "\n",
    "for label in (axes[0].get_xticklabels() + axes[0].get_yticklabels()):\n",
    "    label.set(fontsize=13, color=font_color, **hfont)\n",
    "\n",
    "for label in (axes[1].get_xticklabels() + axes[1].get_yticklabels()):\n",
    "    label.set(fontsize=13, color=font_color, **hfont)\n",
    "    \n",
    "plt.subplots_adjust(wspace=0, top=0.85, bottom=0.1, left=0.18, right=0.95)\n",
    "axes[0].grid(linestyle='--', alpha=0.5)\n",
    "axes[1].grid(linestyle='--', alpha=0.5)\n",
    "plt.savefig(\"desempenho_p.svg\", dpi = 600)\n",
    "plt.show()  \n",
    "    "
   ]
  },
  {
   "cell_type": "code",
   "execution_count": null,
   "id": "6bd304f2",
   "metadata": {},
   "outputs": [],
   "source": []
  }
 ],
 "metadata": {
  "kernelspec": {
   "display_name": "Python 3",
   "language": "python",
   "name": "python3"
  },
  "language_info": {
   "codemirror_mode": {
    "name": "ipython",
    "version": 3
   },
   "file_extension": ".py",
   "mimetype": "text/x-python",
   "name": "python",
   "nbconvert_exporter": "python",
   "pygments_lexer": "ipython3",
   "version": "3.9.12"
  }
 },
 "nbformat": 4,
 "nbformat_minor": 5
}
