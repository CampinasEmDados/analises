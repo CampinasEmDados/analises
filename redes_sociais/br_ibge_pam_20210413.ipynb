{
 "cells": [
  {
   "cell_type": "code",
   "execution_count": null,
   "metadata": {},
   "outputs": [],
   "source": [
    "!pip install basedosdados"
   ]
  },
  {
   "cell_type": "code",
   "execution_count": 1,
   "metadata": {},
   "outputs": [],
   "source": [
    "import basedosdados as bd\n",
    "import pandas as pd\n",
    "import os as o\n",
    "import matplotlib.pyplot as m"
   ]
  },
  {
   "cell_type": "code",
   "execution_count": 2,
   "metadata": {},
   "outputs": [],
   "source": [
    "o.chdir('/home/matheus/Documentos/bdmais/analises')"
   ]
  },
  {
   "cell_type": "markdown",
   "metadata": {},
   "source": [
    "GRAFICO 1"
   ]
  },
  {
   "cell_type": "code",
   "execution_count": 8,
   "metadata": {},
   "outputs": [
    {
     "name": "stderr",
     "output_type": "stream",
     "text": [
      "Downloading: 100%|██████████| 378/378 [00:01<00:00, 305.22rows/s]\n"
     ]
    }
   ],
   "source": [
    "base = bd.read_sql(\"SELECT ano, produto, sigla_uf,SUM(quantidade_produzida) as quant FROM `basedosdados.br_ibge_pam.municipio_lavouras_temporarias` WHERE ano > 2005 AND produto = 'Mandioca' GROUP BY produto, sigla_uf, ano ORDER BY ano\",   \n",
    "           'double-voice-305816')"
   ]
  },
  {
   "cell_type": "code",
   "execution_count": 9,
   "metadata": {},
   "outputs": [],
   "source": [
    "bw = pd.pivot(base, values = 'quant', columns = 'sigla_uf', index = 'ano').fillna(0)\n",
    "\n",
    "bw = bw.assign(norte = (bw.AM + bw.RR + bw.TO + bw.PA + bw.RO + bw.AC + bw.AP)/1000000,\n",
    "          sul = (bw.PR + bw.RS + bw.SC)/1000000,\n",
    "          sudeste = (bw.ES + bw.MG + bw.SP + bw.RJ)/1000000,\n",
    "          co = (bw.DF + bw.MT + bw.MS + bw.GO)/1000000,\n",
    "          nordeste = (bw.RN + bw.CE + bw.AL + bw.SE + bw.BA + bw.MA + bw.PE + bw.PB + bw.PI)/1000000)"
   ]
  },
  {
   "cell_type": "code",
   "execution_count": 10,
   "metadata": {},
   "outputs": [],
   "source": [
    "bw.to_csv(\"pam1-mandioca.csv\")"
   ]
  },
  {
   "cell_type": "markdown",
   "metadata": {},
   "source": [
    "GRAFICO 2"
   ]
  },
  {
   "cell_type": "code",
   "execution_count": null,
   "metadata": {},
   "outputs": [],
   "source": [
    "base = bd.read_sql(\"SELECT ano, produto, sigla_uf,SUM(quantidade_produzida) as quant FROM `basedosdados.br_ibge_pam.municipio_lavouras_temporarias` WHERE ano > 2005 AND produto = 'Soja (em grão)' GROUP BY produto, sigla_uf, ano ORDER BY ano\",   \n",
    "           'double-voice-305816')"
   ]
  },
  {
   "cell_type": "code",
   "execution_count": null,
   "metadata": {},
   "outputs": [],
   "source": [
    "bw = pd.pivot(base, values = 'quant', columns = 'sigla_uf', index = 'ano').fillna(0)\n",
    "\n",
    "bw = bw.assign(norte = (bw.AM + bw.RR + bw.TO + bw.PA + bw.RO + bw.AC + bw.AP)/1000000,\n",
    "          sul = (bw.PR + bw.RS + bw.SC)/1000000,\n",
    "          sudeste = (bw.ES + bw.MG + bw.SP + bw.RJ)/1000000,\n",
    "          co = (bw.DF + bw.MT + bw.MS + bw.GO)/1000000,\n",
    "          nordeste = (bw.RN + bw.CE + bw.AL + bw.SE + bw.BA + bw.MA + bw.PE + bw.PB + bw.PI)/1000000)"
   ]
  },
  {
   "cell_type": "code",
   "execution_count": null,
   "metadata": {},
   "outputs": [],
   "source": [
    "bw.to_csv(\"pam2-soja.csv\")"
   ]
  },
  {
   "cell_type": "markdown",
   "metadata": {},
   "source": [
    "GRAFICO 3"
   ]
  },
  {
   "cell_type": "code",
   "execution_count": null,
   "metadata": {},
   "outputs": [],
   "source": [
    "base_pronta = bd.read_sql('SELECT produto, SUM(area_plantada) as area, SUM(valor_producao) as rend FROM `basedosdados.br_ibge_pam.municipio_lavouras_permanentes` WHERE ano = 2019 AND sigla_uf IN (\"AM\", \"RR\", \"RO\", \"AC\", \"PA\", \"AP\") GROUP BY produto ORDER BY area DESC LIMIT 10 ',\n",
    "                   'double-voice-305816')"
   ]
  },
  {
   "cell_type": "code",
   "execution_count": null,
   "metadata": {},
   "outputs": [],
   "source": [
    "#esse aqui depois é só mandar pro flourish"
   ]
  }
 ],
 "metadata": {
  "kernelspec": {
   "display_name": "Python 3",
   "language": "python",
   "name": "python3"
  },
  "language_info": {
   "codemirror_mode": {
    "name": "ipython",
    "version": 3
   },
   "file_extension": ".py",
   "mimetype": "text/x-python",
   "name": "python",
   "nbconvert_exporter": "python",
   "pygments_lexer": "ipython3",
   "version": "3.8.5"
  }
 },
 "nbformat": 4,
 "nbformat_minor": 4
}
