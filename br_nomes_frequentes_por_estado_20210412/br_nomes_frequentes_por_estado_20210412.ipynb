{
 "cells": [
  {
   "cell_type": "markdown",
   "metadata": {},
   "source": [
    "# Base dos Dados Python 102"
   ]
  },
  {
   "cell_type": "markdown",
   "metadata": {},
   "source": [
    "**TL;DR:** Neste artigo vamos demonstrar como acessar os dados do BD+ via consulta SQL pelo pacote da Base Dos Dados em Python. Em seguida vamos continuar as análises do post [Base Dos Dados Python 101](https://dev.to/basedosdados/base-dos-dados-python-101-3l6-temp-slug-495353), sobre a popularidade de nomes nos estados brasileiros, com o conteúdo adaptado do [Workshop \"Brincando com dados da BD+ em Python\"](https://www.youtube.com/watch?v=wI2xEioDPgM)."
   ]
  },
  {
   "cell_type": "code",
   "execution_count": 1,
   "metadata": {},
   "outputs": [],
   "source": [
    "import pandas as pd\n",
    "import geopandas as gpd\n",
    "import basedosdados as bd\n",
    "import matplotlib.pyplot as plt"
   ]
  },
  {
   "cell_type": "markdown",
   "metadata": {},
   "source": [
    "## Consultas SQL na BD+\n",
    "\n",
    "Já vimos em um artigo anterior que podemos acessar a BD+ pela função `read_table`, capaz de carregar uma tabela por vez. Hoje vamos acessar a BD+ por meio de consultas SQL, com a função `read_sql`. Recomendamos essa opção, por contar com toda a capacidade da linguagem SQL, acesso amplo ao acervo da BD+ e retorno em formato de dataframe. Além do mais, sua sintaxe é análoga a `read_table`. Isto é, precisamos apenas fornecer uma consulta válida e um id de projeto do Google Cloud.\n",
    "\n",
    "A seguir ilustramos uma consulta de dados da tabela de nomes brasileiros do IBGE (2010) cruzada com diretórios brasileiros, com fim de obter o nome mais popular de cada estado. Observe que precisamos fornecer o nome do datalake (basedosdados), dataset (br_bd_diretorios_brasil) e tabela (municipio)."
   ]
  },
  {
   "cell_type": "code",
   "execution_count": 2,
   "metadata": {},
   "outputs": [
    {
     "name": "stderr",
     "output_type": "stream",
     "text": [
      "Downloading: 100%|█████████████████████████████████████████████████████| 1959116/1959116 [00:08<00:00, 225834.10rows/s]\n"
     ]
    }
   ],
   "source": [
    "df = bd.read_sql(\n",
    "    '''\n",
    "    SELECT estado.uf AS state, estado.municipio AS town, nomes.nome AS name, nomes.qtde_nascimentos_ate_2010 AS freq\n",
    "    FROM  basedosdados.br_ibge_nomes_brasil.quantidade_municipio_nome_2010 AS nomes\n",
    "    INNER JOIN basedosdados.br_bd_diretorios_brasil.municipio AS estado ON nomes.id_municipio = estado.id_municipio\n",
    "    ''',\n",
    "    billing_project_id='basedosdados42'\n",
    ")"
   ]
  },
  {
   "cell_type": "markdown",
   "metadata": {},
   "source": [
    "Após lermos os dados realizamos um pré-processamento. Neste processo, eliminamos nomes únicos ou erros em municípios, como: Awo, Yorane e Zilneide. Por fim, também calculamos a frequência dos nomes nos estados por 100.000 pessoas."
   ]
  },
  {
   "cell_type": "code",
   "execution_count": 3,
   "metadata": {
    "tags": []
   },
   "outputs": [],
   "source": [
    "df = df[df.duplicated('name', keep=False)] # seleciona nomes que aparecem mais de uma vez\n",
    "\n",
    "total_by_state = df.groupby('state').freq.sum() # agrupa o total por estado\n",
    "df = df.merge(total_by_state, on='state', suffixes=('', '_total_by_state')) # une os dados com total por estado\n",
    "\n",
    "df['freq_per_100k'] = 100_000 * df.freq / df.freq_total_by_state # cria o total por estado por 100k pessoas"
   ]
  },
  {
   "cell_type": "markdown",
   "metadata": {},
   "source": [
    "## Em que estado Fred é mais famoso?\n",
    "\n",
    "Nossa primeira questão de análise é descobrir como está distribuída a frequência de um nome nos estados brasileiros. Em particular gostaríamos de saber em qual estado Fred, nome de um de nossos desenvolvedores, é o nome mais famoso. Então vamos contar a frequência do nome Fred por 100.000 pessoas em cada estado, e em seguida representar este dado com um mapa com gradiente de cores (coroplético). \n",
    "\n",
    "Para isso, previamente instalamos a biblioteca `geopandas` para auxiliar o desenho do mapa e manualmente criamos um mapeamento entre o nome de um estado e sua abreviação nos dados geográficos `state2abbr`."
   ]
  },
  {
   "cell_type": "code",
   "execution_count": 4,
   "metadata": {},
   "outputs": [],
   "source": [
    "state2abbr = {\n",
    "    'Acre': 'BR.AC', 'Alagoas': 'BR.AL', 'Amapá': 'BR.AP',\n",
    "    'Amazonas': 'BR.AM', 'Bahia': 'BR.BA', 'Ceará': 'BR.CE',\n",
    "    'Distrito Federal': 'BR.DF', 'Espírito Santo': 'BR.ES',\n",
    "    'Goiás': 'BR.GO', 'Maranhão': 'BR.MA', 'Mato Grosso': 'BR.MT',\n",
    "    'Mato Grosso do Sul': 'BR.MS', 'Minas Gerais': 'BR.MG',\n",
    "    'Pará': 'BR.PA', 'Paraíba': 'BR.PB', 'Paraná': 'BR.PR',\n",
    "    'Pernambuco': 'BR.PE', 'Piauí': 'BR.PI', 'Rio de Janeiro': 'BR.RJ',\n",
    "    'Rio Grande do Norte': 'BR.RN', 'Rio Grande do Sul': 'BR.RS',\n",
    "    'Rondônia': 'BR.RO', 'Roraima': 'BR.RR', 'Santa Catarina': 'BR.SC',\n",
    "    'São Paulo': 'BR.SP', 'Sergipe': 'BR.SE', 'Tocantins': 'BR.TO',\n",
    "}"
   ]
  },
  {
   "cell_type": "markdown",
   "metadata": {},
   "source": [
    "Em seguida criamos a função `visualize_name` que filtra os dados do nome, agrupa a frequência por estados e desenha o mapa."
   ]
  },
  {
   "cell_type": "code",
   "execution_count": 5,
   "metadata": {},
   "outputs": [
    {
     "data": {
      "image/png": "[encoded data removed]",
      "text/plain": [
       "<Figure size 432x288 with 2 Axes>"
      ]
     },
     "metadata": {
      "needs_background": "light"
     },
     "output_type": "display_data"
    }
   ],
   "source": [
    "def visualize_name(df, name):\n",
    "    name_df = df.query(f'name == \"{name}\"') # filtra o nome escolhido\n",
    "    name_df = name_df.groupby('state', as_index=False).sum() # agrupa pelos estados\n",
    "    name_df.state = name_df.state.apply(lambda x: state2abbr[x]) # abrevia os estados\n",
    "    name_df = name_df.rename(columns={'state': 'HASC_1'}) # renomeia a coluna\n",
    "    \n",
    "    fig, ax = plt.subplots(1, 1)\n",
    "    br_map = gpd.read_file('./shapes/gadm36_BRA_1.shp') # lê o mapa\n",
    "    br_map = br_map.merge(name_df, on='HASC_1', how='outer') # une o mapa com os dados\n",
    "    br_map.plot(column='freq_per_100k', ax=ax, legend=True) # desenha o gráfico\n",
    "    plt.xlabel('Frequência/100mil pessoas no nome Fred')\n",
    "    plt.savefig('fred_freq')\n",
    "\n",
    "visualize_name(df, 'Fred')"
   ]
  },
  {
   "cell_type": "markdown",
   "metadata": {},
   "source": [
    "Interessante notar como Fred parece um nome comum em estados como Amazonas e Roraima, devido a população nestes estados ser menor quando comparada com São Paulo."
   ]
  },
  {
   "cell_type": "code",
   "execution_count": 6,
   "metadata": {},
   "outputs": [
    {
     "name": "stdout",
     "output_type": "stream",
     "text": [
      "Qtde em Roraima: 19\n",
      "Qtde em São Paulo: 1012\n"
     ]
    }
   ],
   "source": [
    "print('Qtde em Roraima:', df.query('name == \"Fred\" & state == \"Roraima\"').freq.sum())\n",
    "print('Qtde em São Paulo:', df.query('name == \"Fred\" & state == \"São Paulo\"').freq.sum())"
   ]
  },
  {
   "cell_type": "code",
   "execution_count": 7,
   "metadata": {},
   "outputs": [
    {
     "name": "stdout",
     "output_type": "stream",
     "text": [
      "Freq/100k em Roraima: 6.782662087774787\n",
      "Freq/100k em São Paulo: 2.9175647836323\n"
     ]
    }
   ],
   "source": [
    "print('Freq/100k em Roraima:', df.query('name == \"Fred\" & state == \"Roraima\"').freq_per_100k.sum())\n",
    "print('Freq/100k em São Paulo:', df.query('name == \"Fred\" & state == \"São Paulo\"').freq_per_100k.sum())"
   ]
  },
  {
   "cell_type": "markdown",
   "metadata": {},
   "source": [
    "## Quais são os nomes mais regionais?\n",
    "\n",
    "Essa é uma boa pergunta a se fazer: qual nome é mais exclusivo de uma região? Ou seja, é mais provável de ser encontrado numa determinada região e não em outros estados.\n",
    "\n",
    "Vamos solucionar esta dúvida agrupando a frequência de nomes dos municípios em estados. Em seguida excluímos os nomes que aparecem apenas em um estado. Para então calcular a mediana e desvio padrão das frequências de cada nome distinto, e por fim normalizamos as frequências de nomes."
   ]
  },
  {
   "cell_type": "code",
   "execution_count": 8,
   "metadata": {},
   "outputs": [],
   "source": [
    "state_df = df.groupby(['name', 'state'], as_index=False).sum() # soma as frequências de municípios\n",
    "state_df = state_df[state_df.duplicated('name', keep=False)] # elimina nomes não duplicados\n",
    "\n",
    "median = state_df.groupby('name', as_index=False).freq_per_100k.median()\n",
    "state_df = state_df.merge(median, on='name', suffixes=('', '_median'))\n",
    "\n",
    "std = state_df.groupby('name', as_index=False).freq_per_100k.std()\n",
    "state_df = state_df.merge(std, on='name', suffixes=('', '_std'))\n",
    "\n",
    "state_df['freq_per_100k_zscore'] = state_df.freq_per_100k\n",
    "state_df['freq_per_100k_zscore'] -= state_df.freq_per_100k_median\n",
    "state_df['freq_per_100k_zscore'] /= state_df.freq_per_100k_std"
   ]
  },
  {
   "cell_type": "markdown",
   "metadata": {},
   "source": [
    "Podemos então visualizar quais são os nomes mais regionais, procurando pela máxima frequência normalizada de cada estado."
   ]
  },
  {
   "cell_type": "code",
   "execution_count": 9,
   "metadata": {},
   "outputs": [],
   "source": [
    "idxmax = state_df[['state', 'freq_per_100k_zscore']].groupby('state').idxmax()\n",
    "idxmax = idxmax.values.ravel()\n",
    "\n",
    "max_name_by_state = state_df.loc[idxmax][['state', 'name', 'freq_per_100k_zscore']]\n",
    "max_name_by_state = max_name_by_state.sort_values(by='state').set_index('state')"
   ]
  },
  {
   "cell_type": "markdown",
   "metadata": {},
   "source": [
    "Para aprender como funciona, nada melhor que brincar com o código. Agora é com você!! Como ficou seu nome no ranking? Em qual estado aparece com maior frequência? Fez uma análise da sua família e descobriu alguma coisa legal? Conta pra gente no twitter!\n",
    "\n",
    "---\n",
    "\n",
    "**Confira o notebook com a análise completa no nosso [repositório](https://github.com/basedosdados/analises)**\n",
    "\n",
    "Texto produzido por [Vinicius](https://github.com/vncsna), [Fernanda](https://github.com/fernandascovino) e Paolo, da Base dos Dados 💚"
   ]
  }
 ],
 "metadata": {
  "kernelspec": {
   "display_name": "Python 3",
   "language": "python",
   "name": "python3"
  },
  "language_info": {
   "codemirror_mode": {
    "name": "ipython",
    "version": 3
   },
   "file_extension": ".py",
   "mimetype": "text/x-python",
   "name": "python",
   "nbconvert_exporter": "python",
   "pygments_lexer": "ipython3",
   "version": "3.8.5"
  }
 },
 "nbformat": 4,
 "nbformat_minor": 4
}
